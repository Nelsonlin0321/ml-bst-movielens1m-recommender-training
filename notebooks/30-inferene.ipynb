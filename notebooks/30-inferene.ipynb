{
 "cells": [
  {
   "cell_type": "markdown",
   "metadata": {},
   "source": [
    "## Notebook Settings"
   ]
  },
  {
   "cell_type": "code",
   "execution_count": 1,
   "metadata": {},
   "outputs": [],
   "source": [
    "import os\n",
    "import mlflow\n",
    "import dotenv\n",
    "import torch\n",
    "import pandas as pd\n",
    "import numpy as np\n",
    "from torch.utils.data import DataLoader\n",
    "from mlflow.tracking import MlflowClient\n",
    "import subprocess\n",
    "import random\n"
   ]
  },
  {
   "cell_type": "code",
   "execution_count": 2,
   "metadata": {},
   "outputs": [],
   "source": [
    "os.chdir(\"./../\")\n"
   ]
  },
  {
   "cell_type": "code",
   "execution_count": 3,
   "metadata": {},
   "outputs": [
    {
     "data": {
      "text/plain": [
       "True"
      ]
     },
     "execution_count": 3,
     "metadata": {},
     "output_type": "execute_result"
    }
   ],
   "source": [
    "dotenv.load_dotenv(\"./.env\")\n"
   ]
  },
  {
   "cell_type": "code",
   "execution_count": 4,
   "metadata": {},
   "outputs": [],
   "source": [
    "TRACKING_URL = \"http://175.41.182.223:5050/\"\n",
    "EXPERIMENT_NAME = \"bst-movielens1m-recommender-training\""
   ]
  },
  {
   "cell_type": "code",
   "execution_count": 5,
   "metadata": {},
   "outputs": [],
   "source": [
    "model_name = \"movielens1m-recommender-model\"\n",
    "stage = \"Production\"\n"
   ]
  },
  {
   "cell_type": "code",
   "execution_count": 6,
   "metadata": {},
   "outputs": [
    {
     "data": {
      "text/plain": [
       "<Experiment: artifact_location='s3://s3-mlflow-artifacts-storage/mlflow/15', creation_time=1690551278624, experiment_id='15', last_update_time=1690551278624, lifecycle_stage='active', name='bst-movielens1m-recommender-training', tags={}>"
      ]
     },
     "execution_count": 6,
     "metadata": {},
     "output_type": "execute_result"
    }
   ],
   "source": [
    "mlflow.set_tracking_uri(TRACKING_URL)\n",
    "mlflow.set_experiment(EXPERIMENT_NAME)\n"
   ]
  },
  {
   "cell_type": "markdown",
   "metadata": {},
   "source": [
    "## Get Registered Model"
   ]
  },
  {
   "cell_type": "code",
   "execution_count": 7,
   "metadata": {},
   "outputs": [],
   "source": [
    "client = MlflowClient()\n",
    "experiment = client.get_experiment_by_name(EXPERIMENT_NAME)\n"
   ]
  },
  {
   "cell_type": "code",
   "execution_count": 8,
   "metadata": {},
   "outputs": [],
   "source": [
    "registered_models = client.get_registered_model(model_name)\n"
   ]
  },
  {
   "cell_type": "code",
   "execution_count": 9,
   "metadata": {},
   "outputs": [],
   "source": [
    "production_model = [\n",
    "    meta for meta in registered_models.latest_versions if meta.current_stage == 'Production']\n",
    "if len(production_model) == 0:\n",
    "    raise Exception(\n",
    "        f\"Moldel Name:{model_name} not production model registered\")\n",
    "else:\n",
    "    production_model = production_model[0]"
   ]
  },
  {
   "cell_type": "code",
   "execution_count": 10,
   "metadata": {},
   "outputs": [
    {
     "name": "stdout",
     "output_type": "stream",
     "text": [
      "run_id:6714af877d514c1a8123f44ca6cd3a77\n"
     ]
    }
   ],
   "source": [
    "run_id = production_model.run_id\n",
    "print(f\"run_id:{run_id}\")\n"
   ]
  },
  {
   "cell_type": "code",
   "execution_count": 11,
   "metadata": {},
   "outputs": [
    {
     "name": "stdout",
     "output_type": "stream",
     "text": [
      "artifact_uri:s3://s3-mlflow-artifacts-storage/mlflow/15/6714af877d514c1a8123f44ca6cd3a77/artifacts\n"
     ]
    }
   ],
   "source": [
    "# download artifacts\n",
    "artifact_uri = client.get_run(run_id).info.artifact_uri\n",
    "print(f\"artifact_uri:{artifact_uri}\")\n"
   ]
  },
  {
   "cell_type": "code",
   "execution_count": 12,
   "metadata": {},
   "outputs": [],
   "source": [
    "output = subprocess.run([\"aws\", \"s3\", \"cp\", artifact_uri,\n",
    "                        \"./mlflow_artifacts\", '--recursive'], capture_output=True)"
   ]
  },
  {
   "cell_type": "markdown",
   "metadata": {},
   "source": [
    "## Load Model From Artifacts "
   ]
  },
  {
   "cell_type": "code",
   "execution_count": 13,
   "metadata": {},
   "outputs": [],
   "source": [
    "from mlflow_artifacts.src.model import BSTRecommenderModel\n",
    "from mlflow_artifacts.src.dataset import RatingDataset\n",
    "from mlflow_artifacts.src import utils\n"
   ]
  },
  {
   "cell_type": "code",
   "execution_count": 14,
   "metadata": {},
   "outputs": [
    {
     "data": {
      "text/plain": [
       "<All keys matched successfully>"
      ]
     },
     "execution_count": 14,
     "metadata": {},
     "output_type": "execute_result"
    }
   ],
   "source": [
    "config_dict = utils.open_json(\"./mlflow_artifacts/artifacts/config.json\")\n",
    "config = utils.Config(config_dict)\n",
    "recommender = BSTRecommenderModel(config)\n",
    "recommender.load_state_dict(torch.load(\n",
    "    \"./mlflow_artifacts/model/pytorch_model.pt\"))"
   ]
  },
  {
   "cell_type": "code",
   "execution_count": 15,
   "metadata": {},
   "outputs": [],
   "source": [
    "test_data = pd.read_parquet(\"./mlflow_artifacts/artifacts/test_data.parquet\")\n"
   ]
  },
  {
   "cell_type": "code",
   "execution_count": 16,
   "metadata": {},
   "outputs": [],
   "source": [
    "test_data[\"genres_ids_sequence\"] = test_data[\"genres_ids_sequence\"].apply(\n",
    "    lambda x: [array.tolist() for array in x]\n",
    ")\n"
   ]
  },
  {
   "cell_type": "code",
   "execution_count": 17,
   "metadata": {},
   "outputs": [],
   "source": [
    "test_dataset = RatingDataset(data=test_data)\n"
   ]
  },
  {
   "cell_type": "code",
   "execution_count": 18,
   "metadata": {},
   "outputs": [],
   "source": [
    "test_loader = DataLoader(\n",
    "    test_dataset, batch_size=config.batch_size, shuffle=True)"
   ]
  },
  {
   "cell_type": "code",
   "execution_count": 19,
   "metadata": {},
   "outputs": [],
   "source": [
    "for inputs in test_loader:\n",
    "    with torch.no_grad():\n",
    "        probs = recommender(inputs)\n",
    "        ratings = inputs[\"target_rating\"].view(-1, 1)\n",
    "        break\n"
   ]
  },
  {
   "cell_type": "markdown",
   "metadata": {},
   "source": [
    "## Prepare Test Data "
   ]
  },
  {
   "cell_type": "code",
   "execution_count": 20,
   "metadata": {},
   "outputs": [
    {
     "data": {
      "text/plain": [
       "dict_keys(['movie_sequence', 'genres_ids_sequence', 'sex', 'age_group_index', 'target_movie', 'target_rating'])"
      ]
     },
     "execution_count": 20,
     "metadata": {},
     "output_type": "execute_result"
    }
   ],
   "source": [
    "inputs.keys()\n"
   ]
  },
  {
   "cell_type": "code",
   "execution_count": 21,
   "metadata": {},
   "outputs": [],
   "source": [
    "df_input = pd.DataFrame()\n"
   ]
  },
  {
   "cell_type": "code",
   "execution_count": 22,
   "metadata": {},
   "outputs": [],
   "source": [
    "movie_id_map_dict = utils.open_object(\n",
    "    \"./mlflow_artifacts/artifacts/movie_id_map_dict.pkl\")\n",
    "movies_to_genres_dict = utils.open_object(\n",
    "    \"./mlflow_artifacts/artifacts/movies_to_genres_dict.pkl\")\n",
    "genres_map_dict = utils.open_object(\n",
    "    \"./mlflow_artifacts/artifacts/genres_map_dict.pkl\")\n",
    "age_group_id_map_dict = utils.open_object(\n",
    "    \"mlflow_artifacts/artifacts/age_group_id_map_dict.pkl\")"
   ]
  },
  {
   "cell_type": "markdown",
   "metadata": {},
   "source": [
    "### List Target Movies "
   ]
  },
  {
   "cell_type": "code",
   "execution_count": 23,
   "metadata": {},
   "outputs": [],
   "source": [
    "target_movies = list(movie_id_map_dict.values())\n",
    "target_movies.remove(movie_id_map_dict[\"UNK\"])\n",
    "df_input[\"target_movie\"] = target_movies\n"
   ]
  },
  {
   "cell_type": "markdown",
   "metadata": {},
   "source": [
    "### User Movie View Sequence"
   ]
  },
  {
   "cell_type": "code",
   "execution_count": 24,
   "metadata": {},
   "outputs": [],
   "source": [
    "sequence_length = config_dict['sequence_length']\n",
    "random_length = np.random.randint(1, sequence_length-1)\n",
    "movie_ids = random.sample(list(movie_id_map_dict.keys()), k=random_length)"
   ]
  },
  {
   "cell_type": "code",
   "execution_count": 25,
   "metadata": {},
   "outputs": [],
   "source": [
    "movie_sequence_ids = [movie_id_map_dict[id_] for id_ in movie_ids]\n"
   ]
  },
  {
   "cell_type": "code",
   "execution_count": 26,
   "metadata": {},
   "outputs": [],
   "source": [
    "df_input['movie_sequence'] = [movie_sequence_ids.copy()\n",
    "                              for _ in range(len(df_input))]"
   ]
  },
  {
   "cell_type": "code",
   "execution_count": 27,
   "metadata": {},
   "outputs": [
    {
     "data": {
      "text/html": [
       "<div>\n",
       "<style scoped>\n",
       "    .dataframe tbody tr th:only-of-type {\n",
       "        vertical-align: middle;\n",
       "    }\n",
       "\n",
       "    .dataframe tbody tr th {\n",
       "        vertical-align: top;\n",
       "    }\n",
       "\n",
       "    .dataframe thead th {\n",
       "        text-align: right;\n",
       "    }\n",
       "</style>\n",
       "<table border=\"1\" class=\"dataframe\">\n",
       "  <thead>\n",
       "    <tr style=\"text-align: right;\">\n",
       "      <th></th>\n",
       "      <th>target_movie</th>\n",
       "      <th>movie_sequence</th>\n",
       "    </tr>\n",
       "  </thead>\n",
       "  <tbody>\n",
       "    <tr>\n",
       "      <th>0</th>\n",
       "      <td>1</td>\n",
       "      <td>[812]</td>\n",
       "    </tr>\n",
       "    <tr>\n",
       "      <th>1</th>\n",
       "      <td>2</td>\n",
       "      <td>[812]</td>\n",
       "    </tr>\n",
       "    <tr>\n",
       "      <th>2</th>\n",
       "      <td>3</td>\n",
       "      <td>[812]</td>\n",
       "    </tr>\n",
       "    <tr>\n",
       "      <th>3</th>\n",
       "      <td>4</td>\n",
       "      <td>[812]</td>\n",
       "    </tr>\n",
       "    <tr>\n",
       "      <th>4</th>\n",
       "      <td>5</td>\n",
       "      <td>[812]</td>\n",
       "    </tr>\n",
       "  </tbody>\n",
       "</table>\n",
       "</div>"
      ],
      "text/plain": [
       "   target_movie movie_sequence\n",
       "0             1          [812]\n",
       "1             2          [812]\n",
       "2             3          [812]\n",
       "3             4          [812]\n",
       "4             5          [812]"
      ]
     },
     "execution_count": 27,
     "metadata": {},
     "output_type": "execute_result"
    }
   ],
   "source": [
    "df_input.head()\n"
   ]
  },
  {
   "cell_type": "code",
   "execution_count": 28,
   "metadata": {},
   "outputs": [],
   "source": [
    "_ = df_input.apply(lambda x: x['movie_sequence'].append(\n",
    "    x['target_movie']), axis=1)"
   ]
  },
  {
   "cell_type": "code",
   "execution_count": 29,
   "metadata": {},
   "outputs": [],
   "source": [
    "df_input[\"movie_sequence\"] = df_input[\"movie_sequence\"].apply(\n",
    "    lambda x: x + sequence_length * [movie_id_map_dict[\"UNK\"]]\n",
    ")\n"
   ]
  },
  {
   "cell_type": "code",
   "execution_count": 30,
   "metadata": {},
   "outputs": [],
   "source": [
    "df_input[\"movie_sequence\"] = df_input[\"movie_sequence\"].apply(\n",
    "    lambda x: x[:sequence_length]\n",
    ")\n"
   ]
  },
  {
   "cell_type": "code",
   "execution_count": 31,
   "metadata": {},
   "outputs": [
    {
     "data": {
      "text/html": [
       "<div>\n",
       "<style scoped>\n",
       "    .dataframe tbody tr th:only-of-type {\n",
       "        vertical-align: middle;\n",
       "    }\n",
       "\n",
       "    .dataframe tbody tr th {\n",
       "        vertical-align: top;\n",
       "    }\n",
       "\n",
       "    .dataframe thead th {\n",
       "        text-align: right;\n",
       "    }\n",
       "</style>\n",
       "<table border=\"1\" class=\"dataframe\">\n",
       "  <thead>\n",
       "    <tr style=\"text-align: right;\">\n",
       "      <th></th>\n",
       "      <th>target_movie</th>\n",
       "      <th>movie_sequence</th>\n",
       "    </tr>\n",
       "  </thead>\n",
       "  <tbody>\n",
       "    <tr>\n",
       "      <th>0</th>\n",
       "      <td>1</td>\n",
       "      <td>[812, 1, 0, 0, 0, 0]</td>\n",
       "    </tr>\n",
       "    <tr>\n",
       "      <th>1</th>\n",
       "      <td>2</td>\n",
       "      <td>[812, 2, 0, 0, 0, 0]</td>\n",
       "    </tr>\n",
       "    <tr>\n",
       "      <th>2</th>\n",
       "      <td>3</td>\n",
       "      <td>[812, 3, 0, 0, 0, 0]</td>\n",
       "    </tr>\n",
       "    <tr>\n",
       "      <th>3</th>\n",
       "      <td>4</td>\n",
       "      <td>[812, 4, 0, 0, 0, 0]</td>\n",
       "    </tr>\n",
       "    <tr>\n",
       "      <th>4</th>\n",
       "      <td>5</td>\n",
       "      <td>[812, 5, 0, 0, 0, 0]</td>\n",
       "    </tr>\n",
       "  </tbody>\n",
       "</table>\n",
       "</div>"
      ],
      "text/plain": [
       "   target_movie        movie_sequence\n",
       "0             1  [812, 1, 0, 0, 0, 0]\n",
       "1             2  [812, 2, 0, 0, 0, 0]\n",
       "2             3  [812, 3, 0, 0, 0, 0]\n",
       "3             4  [812, 4, 0, 0, 0, 0]\n",
       "4             5  [812, 5, 0, 0, 0, 0]"
      ]
     },
     "execution_count": 31,
     "metadata": {},
     "output_type": "execute_result"
    }
   ],
   "source": [
    "df_input.head()\n"
   ]
  },
  {
   "cell_type": "markdown",
   "metadata": {},
   "source": [
    "### Movie Genres"
   ]
  },
  {
   "cell_type": "code",
   "execution_count": 32,
   "metadata": {},
   "outputs": [],
   "source": [
    "movies_to_genres_dict[movie_id_map_dict['UNK']] = [\n",
    "    genres_map_dict['UNK']]*len(movies_to_genres_dict[1])\n",
    "df_input['genres_ids_sequence'] = df_input['movie_sequence'].apply(\n",
    "    lambda x: [movies_to_genres_dict[id_] for id_ in x])"
   ]
  },
  {
   "cell_type": "markdown",
   "metadata": {},
   "source": [
    "### Sex"
   ]
  },
  {
   "cell_type": "code",
   "execution_count": 33,
   "metadata": {},
   "outputs": [],
   "source": [
    "df_input['sex'] = random.randint(0, 2)"
   ]
  },
  {
   "cell_type": "markdown",
   "metadata": {},
   "source": [
    "## Age Group"
   ]
  },
  {
   "cell_type": "code",
   "execution_count": 34,
   "metadata": {},
   "outputs": [],
   "source": [
    "age_group = random.sample(list(age_group_id_map_dict.keys()), k=1)[0]"
   ]
  },
  {
   "cell_type": "code",
   "execution_count": 35,
   "metadata": {},
   "outputs": [],
   "source": [
    "age_group_index = age_group_id_map_dict[age_group]\n"
   ]
  },
  {
   "cell_type": "code",
   "execution_count": 36,
   "metadata": {},
   "outputs": [
    {
     "data": {
      "text/plain": [
       "7"
      ]
     },
     "execution_count": 36,
     "metadata": {},
     "output_type": "execute_result"
    }
   ],
   "source": [
    "age_group_index\n"
   ]
  },
  {
   "cell_type": "code",
   "execution_count": 37,
   "metadata": {},
   "outputs": [],
   "source": [
    "df_input['age_group_index'] = age_group_index"
   ]
  },
  {
   "cell_type": "markdown",
   "metadata": {},
   "source": [
    "## Prepare Dataset"
   ]
  },
  {
   "cell_type": "code",
   "execution_count": 38,
   "metadata": {},
   "outputs": [],
   "source": [
    "inference_dataset = RatingDataset(data=df_input)\n"
   ]
  },
  {
   "cell_type": "code",
   "execution_count": 39,
   "metadata": {},
   "outputs": [],
   "source": [
    "inference_loader = DataLoader(\n",
    "    inference_dataset, batch_size=config.batch_size, shuffle=False)"
   ]
  },
  {
   "cell_type": "markdown",
   "metadata": {},
   "source": [
    "## Inference"
   ]
  },
  {
   "cell_type": "code",
   "execution_count": 40,
   "metadata": {},
   "outputs": [],
   "source": [
    "probs_list = []\n",
    "for inputs in inference_loader:\n",
    "    with torch.no_grad():\n",
    "        probs = recommender(inputs)\n",
    "        probs_list.append(probs.cpu().numpy())\n"
   ]
  },
  {
   "cell_type": "code",
   "execution_count": 41,
   "metadata": {},
   "outputs": [],
   "source": [
    "df_input['rating'] = np.concatenate(probs_list)[:, 0]"
   ]
  },
  {
   "cell_type": "code",
   "execution_count": 42,
   "metadata": {},
   "outputs": [],
   "source": [
    "df_input = df_input.sort_values(by='rating', ascending=False)"
   ]
  },
  {
   "cell_type": "code",
   "execution_count": 43,
   "metadata": {},
   "outputs": [],
   "source": [
    "reverse_movie_id_map_dict = {remap_id: id_ for id_,\n",
    "                             remap_id in movie_id_map_dict.items()}"
   ]
  },
  {
   "cell_type": "code",
   "execution_count": 44,
   "metadata": {},
   "outputs": [],
   "source": [
    "df_input[\"movie_id\"] = df_input[\"target_movie\"].map(reverse_movie_id_map_dict)\n"
   ]
  },
  {
   "cell_type": "code",
   "execution_count": 45,
   "metadata": {},
   "outputs": [
    {
     "data": {
      "text/html": [
       "<div>\n",
       "<style scoped>\n",
       "    .dataframe tbody tr th:only-of-type {\n",
       "        vertical-align: middle;\n",
       "    }\n",
       "\n",
       "    .dataframe tbody tr th {\n",
       "        vertical-align: top;\n",
       "    }\n",
       "\n",
       "    .dataframe thead th {\n",
       "        text-align: right;\n",
       "    }\n",
       "</style>\n",
       "<table border=\"1\" class=\"dataframe\">\n",
       "  <thead>\n",
       "    <tr style=\"text-align: right;\">\n",
       "      <th></th>\n",
       "      <th>target_movie</th>\n",
       "      <th>movie_sequence</th>\n",
       "      <th>genres_ids_sequence</th>\n",
       "      <th>sex</th>\n",
       "      <th>age_group_index</th>\n",
       "      <th>rating</th>\n",
       "      <th>movie_id</th>\n",
       "    </tr>\n",
       "  </thead>\n",
       "  <tbody>\n",
       "    <tr>\n",
       "      <th>1115</th>\n",
       "      <td>1116</td>\n",
       "      <td>[812, 1116, 0, 0, 0, 0]</td>\n",
       "      <td>[[8, 0, 0, 0], [8, 0, 0, 0], [0, 0, 0, 0], [0,...</td>\n",
       "      <td>2</td>\n",
       "      <td>7</td>\n",
       "      <td>1.000000e+00</td>\n",
       "      <td>1131</td>\n",
       "    </tr>\n",
       "    <tr>\n",
       "      <th>893</th>\n",
       "      <td>894</td>\n",
       "      <td>[812, 894, 0, 0, 0, 0]</td>\n",
       "      <td>[[8, 0, 0, 0], [5, 0, 0, 0], [0, 0, 0, 0], [0,...</td>\n",
       "      <td>2</td>\n",
       "      <td>7</td>\n",
       "      <td>1.000000e+00</td>\n",
       "      <td>905</td>\n",
       "    </tr>\n",
       "    <tr>\n",
       "      <th>908</th>\n",
       "      <td>909</td>\n",
       "      <td>[812, 909, 0, 0, 0, 0]</td>\n",
       "      <td>[[8, 0, 0, 0], [8, 14, 17, 0], [0, 0, 0, 0], [...</td>\n",
       "      <td>2</td>\n",
       "      <td>7</td>\n",
       "      <td>1.000000e+00</td>\n",
       "      <td>920</td>\n",
       "    </tr>\n",
       "    <tr>\n",
       "      <th>910</th>\n",
       "      <td>911</td>\n",
       "      <td>[812, 911, 0, 0, 0, 0]</td>\n",
       "      <td>[[8, 0, 0, 0], [10, 0, 0, 0], [0, 0, 0, 0], [0...</td>\n",
       "      <td>2</td>\n",
       "      <td>7</td>\n",
       "      <td>1.000000e+00</td>\n",
       "      <td>922</td>\n",
       "    </tr>\n",
       "    <tr>\n",
       "      <th>918</th>\n",
       "      <td>919</td>\n",
       "      <td>[812, 919, 0, 0, 0, 0]</td>\n",
       "      <td>[[8, 0, 0, 0], [10, 14, 16, 0], [0, 0, 0, 0], ...</td>\n",
       "      <td>2</td>\n",
       "      <td>7</td>\n",
       "      <td>1.000000e+00</td>\n",
       "      <td>930</td>\n",
       "    </tr>\n",
       "    <tr>\n",
       "      <th>...</th>\n",
       "      <td>...</td>\n",
       "      <td>...</td>\n",
       "      <td>...</td>\n",
       "      <td>...</td>\n",
       "      <td>...</td>\n",
       "      <td>...</td>\n",
       "      <td>...</td>\n",
       "    </tr>\n",
       "    <tr>\n",
       "      <th>1645</th>\n",
       "      <td>1646</td>\n",
       "      <td>[812, 1646, 0, 0, 0, 0]</td>\n",
       "      <td>[[8, 0, 0, 0], [11, 15, 0, 0], [0, 0, 0, 0], [...</td>\n",
       "      <td>2</td>\n",
       "      <td>7</td>\n",
       "      <td>1.280732e-16</td>\n",
       "      <td>1692</td>\n",
       "    </tr>\n",
       "    <tr>\n",
       "      <th>1736</th>\n",
       "      <td>1737</td>\n",
       "      <td>[812, 1737, 0, 0, 0, 0]</td>\n",
       "      <td>[[8, 0, 0, 0], [1, 8, 0, 0], [0, 0, 0, 0], [0,...</td>\n",
       "      <td>2</td>\n",
       "      <td>7</td>\n",
       "      <td>8.747074e-17</td>\n",
       "      <td>1796</td>\n",
       "    </tr>\n",
       "    <tr>\n",
       "      <th>1221</th>\n",
       "      <td>1222</td>\n",
       "      <td>[812, 1222, 0, 0, 0, 0]</td>\n",
       "      <td>[[8, 0, 0, 0], [5, 11, 0, 0], [0, 0, 0, 0], [0...</td>\n",
       "      <td>2</td>\n",
       "      <td>7</td>\n",
       "      <td>6.396860e-17</td>\n",
       "      <td>1241</td>\n",
       "    </tr>\n",
       "    <tr>\n",
       "      <th>1798</th>\n",
       "      <td>1799</td>\n",
       "      <td>[812, 1799, 0, 0, 0, 0]</td>\n",
       "      <td>[[8, 0, 0, 0], [1, 2, 0, 0], [0, 0, 0, 0], [0,...</td>\n",
       "      <td>2</td>\n",
       "      <td>7</td>\n",
       "      <td>2.348403e-18</td>\n",
       "      <td>1867</td>\n",
       "    </tr>\n",
       "    <tr>\n",
       "      <th>3111</th>\n",
       "      <td>3112</td>\n",
       "      <td>[812, 3112, 0, 0, 0, 0]</td>\n",
       "      <td>[[8, 0, 0, 0], [5, 8, 0, 0], [0, 0, 0, 0], [0,...</td>\n",
       "      <td>2</td>\n",
       "      <td>7</td>\n",
       "      <td>2.219048e-20</td>\n",
       "      <td>3180</td>\n",
       "    </tr>\n",
       "  </tbody>\n",
       "</table>\n",
       "<p>3883 rows × 7 columns</p>\n",
       "</div>"
      ],
      "text/plain": [
       "      target_movie           movie_sequence  \\\n",
       "1115          1116  [812, 1116, 0, 0, 0, 0]   \n",
       "893            894   [812, 894, 0, 0, 0, 0]   \n",
       "908            909   [812, 909, 0, 0, 0, 0]   \n",
       "910            911   [812, 911, 0, 0, 0, 0]   \n",
       "918            919   [812, 919, 0, 0, 0, 0]   \n",
       "...            ...                      ...   \n",
       "1645          1646  [812, 1646, 0, 0, 0, 0]   \n",
       "1736          1737  [812, 1737, 0, 0, 0, 0]   \n",
       "1221          1222  [812, 1222, 0, 0, 0, 0]   \n",
       "1798          1799  [812, 1799, 0, 0, 0, 0]   \n",
       "3111          3112  [812, 3112, 0, 0, 0, 0]   \n",
       "\n",
       "                                    genres_ids_sequence  sex  age_group_index  \\\n",
       "1115  [[8, 0, 0, 0], [8, 0, 0, 0], [0, 0, 0, 0], [0,...    2                7   \n",
       "893   [[8, 0, 0, 0], [5, 0, 0, 0], [0, 0, 0, 0], [0,...    2                7   \n",
       "908   [[8, 0, 0, 0], [8, 14, 17, 0], [0, 0, 0, 0], [...    2                7   \n",
       "910   [[8, 0, 0, 0], [10, 0, 0, 0], [0, 0, 0, 0], [0...    2                7   \n",
       "918   [[8, 0, 0, 0], [10, 14, 16, 0], [0, 0, 0, 0], ...    2                7   \n",
       "...                                                 ...  ...              ...   \n",
       "1645  [[8, 0, 0, 0], [11, 15, 0, 0], [0, 0, 0, 0], [...    2                7   \n",
       "1736  [[8, 0, 0, 0], [1, 8, 0, 0], [0, 0, 0, 0], [0,...    2                7   \n",
       "1221  [[8, 0, 0, 0], [5, 11, 0, 0], [0, 0, 0, 0], [0...    2                7   \n",
       "1798  [[8, 0, 0, 0], [1, 2, 0, 0], [0, 0, 0, 0], [0,...    2                7   \n",
       "3111  [[8, 0, 0, 0], [5, 8, 0, 0], [0, 0, 0, 0], [0,...    2                7   \n",
       "\n",
       "            rating movie_id  \n",
       "1115  1.000000e+00     1131  \n",
       "893   1.000000e+00      905  \n",
       "908   1.000000e+00      920  \n",
       "910   1.000000e+00      922  \n",
       "918   1.000000e+00      930  \n",
       "...            ...      ...  \n",
       "1645  1.280732e-16     1692  \n",
       "1736  8.747074e-17     1796  \n",
       "1221  6.396860e-17     1241  \n",
       "1798  2.348403e-18     1867  \n",
       "3111  2.219048e-20     3180  \n",
       "\n",
       "[3883 rows x 7 columns]"
      ]
     },
     "execution_count": 45,
     "metadata": {},
     "output_type": "execute_result"
    }
   ],
   "source": [
    "df_input\n"
   ]
  },
  {
   "cell_type": "code",
   "execution_count": 46,
   "metadata": {},
   "outputs": [],
   "source": [
    "movies = pd.read_csv(\n",
    "    \"ml-1m/movies.dat\",\n",
    "    sep=\"::\",\n",
    "    names=[\"movie_id\", \"title\", \"genres\"],\n",
    "    engine=\"python\",\n",
    "    encoding=\"ISO-8859-1\",\n",
    ")\n"
   ]
  },
  {
   "cell_type": "code",
   "execution_count": 49,
   "metadata": {},
   "outputs": [
    {
     "data": {
      "text/html": [
       "<div>\n",
       "<style scoped>\n",
       "    .dataframe tbody tr th:only-of-type {\n",
       "        vertical-align: middle;\n",
       "    }\n",
       "\n",
       "    .dataframe tbody tr th {\n",
       "        vertical-align: top;\n",
       "    }\n",
       "\n",
       "    .dataframe thead th {\n",
       "        text-align: right;\n",
       "    }\n",
       "</style>\n",
       "<table border=\"1\" class=\"dataframe\">\n",
       "  <thead>\n",
       "    <tr style=\"text-align: right;\">\n",
       "      <th></th>\n",
       "      <th>target_movie</th>\n",
       "      <th>movie_sequence</th>\n",
       "      <th>genres_ids_sequence</th>\n",
       "      <th>sex</th>\n",
       "      <th>age_group_index</th>\n",
       "      <th>rating</th>\n",
       "      <th>movie_id</th>\n",
       "      <th>title</th>\n",
       "      <th>genres</th>\n",
       "    </tr>\n",
       "  </thead>\n",
       "  <tbody>\n",
       "    <tr>\n",
       "      <th>0</th>\n",
       "      <td>1116</td>\n",
       "      <td>[812, 1116, 0, 0, 0, 0]</td>\n",
       "      <td>[[8, 0, 0, 0], [8, 0, 0, 0], [0, 0, 0, 0], [0,...</td>\n",
       "      <td>2</td>\n",
       "      <td>7</td>\n",
       "      <td>1.000000e+00</td>\n",
       "      <td>1131</td>\n",
       "      <td>Jean de Florette (1986)</td>\n",
       "      <td>Drama</td>\n",
       "    </tr>\n",
       "    <tr>\n",
       "      <th>1</th>\n",
       "      <td>894</td>\n",
       "      <td>[812, 894, 0, 0, 0, 0]</td>\n",
       "      <td>[[8, 0, 0, 0], [5, 0, 0, 0], [0, 0, 0, 0], [0,...</td>\n",
       "      <td>2</td>\n",
       "      <td>7</td>\n",
       "      <td>1.000000e+00</td>\n",
       "      <td>905</td>\n",
       "      <td>It Happened One Night (1934)</td>\n",
       "      <td>Comedy</td>\n",
       "    </tr>\n",
       "    <tr>\n",
       "      <th>2</th>\n",
       "      <td>909</td>\n",
       "      <td>[812, 909, 0, 0, 0, 0]</td>\n",
       "      <td>[[8, 0, 0, 0], [8, 14, 17, 0], [0, 0, 0, 0], [...</td>\n",
       "      <td>2</td>\n",
       "      <td>7</td>\n",
       "      <td>1.000000e+00</td>\n",
       "      <td>920</td>\n",
       "      <td>Gone with the Wind (1939)</td>\n",
       "      <td>Drama|Romance|War</td>\n",
       "    </tr>\n",
       "    <tr>\n",
       "      <th>3</th>\n",
       "      <td>911</td>\n",
       "      <td>[812, 911, 0, 0, 0, 0]</td>\n",
       "      <td>[[8, 0, 0, 0], [10, 0, 0, 0], [0, 0, 0, 0], [0...</td>\n",
       "      <td>2</td>\n",
       "      <td>7</td>\n",
       "      <td>1.000000e+00</td>\n",
       "      <td>922</td>\n",
       "      <td>Sunset Blvd. (a.k.a. Sunset Boulevard) (1950)</td>\n",
       "      <td>Film-Noir</td>\n",
       "    </tr>\n",
       "    <tr>\n",
       "      <th>4</th>\n",
       "      <td>919</td>\n",
       "      <td>[812, 919, 0, 0, 0, 0]</td>\n",
       "      <td>[[8, 0, 0, 0], [10, 14, 16, 0], [0, 0, 0, 0], ...</td>\n",
       "      <td>2</td>\n",
       "      <td>7</td>\n",
       "      <td>1.000000e+00</td>\n",
       "      <td>930</td>\n",
       "      <td>Notorious (1946)</td>\n",
       "      <td>Film-Noir|Romance|Thriller</td>\n",
       "    </tr>\n",
       "    <tr>\n",
       "      <th>...</th>\n",
       "      <td>...</td>\n",
       "      <td>...</td>\n",
       "      <td>...</td>\n",
       "      <td>...</td>\n",
       "      <td>...</td>\n",
       "      <td>...</td>\n",
       "      <td>...</td>\n",
       "      <td>...</td>\n",
       "      <td>...</td>\n",
       "    </tr>\n",
       "    <tr>\n",
       "      <th>3878</th>\n",
       "      <td>1646</td>\n",
       "      <td>[812, 1646, 0, 0, 0, 0]</td>\n",
       "      <td>[[8, 0, 0, 0], [11, 15, 0, 0], [0, 0, 0, 0], [...</td>\n",
       "      <td>2</td>\n",
       "      <td>7</td>\n",
       "      <td>1.280732e-16</td>\n",
       "      <td>1692</td>\n",
       "      <td>Alien Escape (1995)</td>\n",
       "      <td>Horror|Sci-Fi</td>\n",
       "    </tr>\n",
       "    <tr>\n",
       "      <th>3879</th>\n",
       "      <td>1737</td>\n",
       "      <td>[812, 1737, 0, 0, 0, 0]</td>\n",
       "      <td>[[8, 0, 0, 0], [1, 8, 0, 0], [0, 0, 0, 0], [0,...</td>\n",
       "      <td>2</td>\n",
       "      <td>7</td>\n",
       "      <td>8.747074e-17</td>\n",
       "      <td>1796</td>\n",
       "      <td>In God's Hands (1998)</td>\n",
       "      <td>Action|Drama</td>\n",
       "    </tr>\n",
       "    <tr>\n",
       "      <th>3880</th>\n",
       "      <td>1222</td>\n",
       "      <td>[812, 1222, 0, 0, 0, 0]</td>\n",
       "      <td>[[8, 0, 0, 0], [5, 11, 0, 0], [0, 0, 0, 0], [0...</td>\n",
       "      <td>2</td>\n",
       "      <td>7</td>\n",
       "      <td>6.396860e-17</td>\n",
       "      <td>1241</td>\n",
       "      <td>Braindead (1992)</td>\n",
       "      <td>Comedy|Horror</td>\n",
       "    </tr>\n",
       "    <tr>\n",
       "      <th>3881</th>\n",
       "      <td>1799</td>\n",
       "      <td>[812, 1799, 0, 0, 0, 0]</td>\n",
       "      <td>[[8, 0, 0, 0], [1, 2, 0, 0], [0, 0, 0, 0], [0,...</td>\n",
       "      <td>2</td>\n",
       "      <td>7</td>\n",
       "      <td>2.348403e-18</td>\n",
       "      <td>1867</td>\n",
       "      <td>Tarzan and the Lost City (1998)</td>\n",
       "      <td>Action|Adventure</td>\n",
       "    </tr>\n",
       "    <tr>\n",
       "      <th>3882</th>\n",
       "      <td>3112</td>\n",
       "      <td>[812, 3112, 0, 0, 0, 0]</td>\n",
       "      <td>[[8, 0, 0, 0], [5, 8, 0, 0], [0, 0, 0, 0], [0,...</td>\n",
       "      <td>2</td>\n",
       "      <td>7</td>\n",
       "      <td>2.219048e-20</td>\n",
       "      <td>3180</td>\n",
       "      <td>Play it to the Bone (1999)</td>\n",
       "      <td>Comedy|Drama</td>\n",
       "    </tr>\n",
       "  </tbody>\n",
       "</table>\n",
       "<p>3883 rows × 9 columns</p>\n",
       "</div>"
      ],
      "text/plain": [
       "      target_movie           movie_sequence  \\\n",
       "0             1116  [812, 1116, 0, 0, 0, 0]   \n",
       "1              894   [812, 894, 0, 0, 0, 0]   \n",
       "2              909   [812, 909, 0, 0, 0, 0]   \n",
       "3              911   [812, 911, 0, 0, 0, 0]   \n",
       "4              919   [812, 919, 0, 0, 0, 0]   \n",
       "...            ...                      ...   \n",
       "3878          1646  [812, 1646, 0, 0, 0, 0]   \n",
       "3879          1737  [812, 1737, 0, 0, 0, 0]   \n",
       "3880          1222  [812, 1222, 0, 0, 0, 0]   \n",
       "3881          1799  [812, 1799, 0, 0, 0, 0]   \n",
       "3882          3112  [812, 3112, 0, 0, 0, 0]   \n",
       "\n",
       "                                    genres_ids_sequence  sex  age_group_index  \\\n",
       "0     [[8, 0, 0, 0], [8, 0, 0, 0], [0, 0, 0, 0], [0,...    2                7   \n",
       "1     [[8, 0, 0, 0], [5, 0, 0, 0], [0, 0, 0, 0], [0,...    2                7   \n",
       "2     [[8, 0, 0, 0], [8, 14, 17, 0], [0, 0, 0, 0], [...    2                7   \n",
       "3     [[8, 0, 0, 0], [10, 0, 0, 0], [0, 0, 0, 0], [0...    2                7   \n",
       "4     [[8, 0, 0, 0], [10, 14, 16, 0], [0, 0, 0, 0], ...    2                7   \n",
       "...                                                 ...  ...              ...   \n",
       "3878  [[8, 0, 0, 0], [11, 15, 0, 0], [0, 0, 0, 0], [...    2                7   \n",
       "3879  [[8, 0, 0, 0], [1, 8, 0, 0], [0, 0, 0, 0], [0,...    2                7   \n",
       "3880  [[8, 0, 0, 0], [5, 11, 0, 0], [0, 0, 0, 0], [0...    2                7   \n",
       "3881  [[8, 0, 0, 0], [1, 2, 0, 0], [0, 0, 0, 0], [0,...    2                7   \n",
       "3882  [[8, 0, 0, 0], [5, 8, 0, 0], [0, 0, 0, 0], [0,...    2                7   \n",
       "\n",
       "            rating movie_id                                          title  \\\n",
       "0     1.000000e+00     1131                        Jean de Florette (1986)   \n",
       "1     1.000000e+00      905                   It Happened One Night (1934)   \n",
       "2     1.000000e+00      920                      Gone with the Wind (1939)   \n",
       "3     1.000000e+00      922  Sunset Blvd. (a.k.a. Sunset Boulevard) (1950)   \n",
       "4     1.000000e+00      930                               Notorious (1946)   \n",
       "...            ...      ...                                            ...   \n",
       "3878  1.280732e-16     1692                            Alien Escape (1995)   \n",
       "3879  8.747074e-17     1796                          In God's Hands (1998)   \n",
       "3880  6.396860e-17     1241                               Braindead (1992)   \n",
       "3881  2.348403e-18     1867                Tarzan and the Lost City (1998)   \n",
       "3882  2.219048e-20     3180                     Play it to the Bone (1999)   \n",
       "\n",
       "                          genres  \n",
       "0                          Drama  \n",
       "1                         Comedy  \n",
       "2              Drama|Romance|War  \n",
       "3                      Film-Noir  \n",
       "4     Film-Noir|Romance|Thriller  \n",
       "...                          ...  \n",
       "3878               Horror|Sci-Fi  \n",
       "3879                Action|Drama  \n",
       "3880               Comedy|Horror  \n",
       "3881            Action|Adventure  \n",
       "3882                Comedy|Drama  \n",
       "\n",
       "[3883 rows x 9 columns]"
      ]
     },
     "execution_count": 49,
     "metadata": {},
     "output_type": "execute_result"
    }
   ],
   "source": [
    "df_input.merge(movies)\n"
   ]
  },
  {
   "cell_type": "code",
   "execution_count": null,
   "metadata": {},
   "outputs": [],
   "source": []
  }
 ],
 "metadata": {
  "kernelspec": {
   "display_name": "torch",
   "language": "python",
   "name": "python3"
  },
  "language_info": {
   "codemirror_mode": {
    "name": "ipython",
    "version": 3
   },
   "file_extension": ".py",
   "mimetype": "text/x-python",
   "name": "python",
   "nbconvert_exporter": "python",
   "pygments_lexer": "ipython3",
   "version": "3.11.3"
  },
  "orig_nbformat": 4
 },
 "nbformat": 4,
 "nbformat_minor": 2
}
