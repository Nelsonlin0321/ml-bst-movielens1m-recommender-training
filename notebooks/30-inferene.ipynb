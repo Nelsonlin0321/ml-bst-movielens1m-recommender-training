{
 "cells": [
  {
   "cell_type": "markdown",
   "metadata": {},
   "source": [
    "## Notebook Settings"
   ]
  },
  {
   "cell_type": "code",
   "execution_count": 1,
   "metadata": {},
   "outputs": [],
   "source": [
    "import os\n",
    "import mlflow\n",
    "import dotenv\n",
    "import torch\n",
    "import pandas as pd\n",
    "import numpy as np\n",
    "from torch.utils.data import DataLoader\n",
    "from mlflow.tracking import MlflowClient\n",
    "import subprocess\n",
    "import random"
   ]
  },
  {
   "cell_type": "code",
   "execution_count": 2,
   "metadata": {},
   "outputs": [],
   "source": [
    "os.chdir(\"./../\")"
   ]
  },
  {
   "cell_type": "code",
   "execution_count": 3,
   "metadata": {},
   "outputs": [
    {
     "data": {
      "text/plain": [
       "True"
      ]
     },
     "execution_count": 3,
     "metadata": {},
     "output_type": "execute_result"
    }
   ],
   "source": [
    "dotenv.load_dotenv(\"./.env\")"
   ]
  },
  {
   "cell_type": "code",
   "execution_count": 4,
   "metadata": {},
   "outputs": [],
   "source": [
    "TRACKING_URL = \"http://175.41.182.223:5050/\"\n",
    "EXPERIMENT_NAME = \"bst-movielens1m-recommender-training\""
   ]
  },
  {
   "cell_type": "code",
   "execution_count": 5,
   "metadata": {},
   "outputs": [],
   "source": [
    "model_name = \"movielens1m-recommender-model\"\n",
    "stage = \"Production\""
   ]
  },
  {
   "cell_type": "code",
   "execution_count": 6,
   "metadata": {},
   "outputs": [
    {
     "data": {
      "text/plain": [
       "<Experiment: artifact_location='s3://s3-mlflow-artifacts-storage/mlflow/15', creation_time=1690551278624, experiment_id='15', last_update_time=1690551278624, lifecycle_stage='active', name='bst-movielens1m-recommender-training', tags={}>"
      ]
     },
     "execution_count": 6,
     "metadata": {},
     "output_type": "execute_result"
    }
   ],
   "source": [
    "mlflow.set_tracking_uri(TRACKING_URL)\n",
    "mlflow.set_experiment(EXPERIMENT_NAME)"
   ]
  },
  {
   "cell_type": "markdown",
   "metadata": {},
   "source": [
    "## Get Registered Model"
   ]
  },
  {
   "cell_type": "code",
   "execution_count": 7,
   "metadata": {},
   "outputs": [],
   "source": [
    "client = MlflowClient()\n",
    "experiment = client.get_experiment_by_name(EXPERIMENT_NAME)"
   ]
  },
  {
   "cell_type": "code",
   "execution_count": 8,
   "metadata": {},
   "outputs": [],
   "source": [
    "registered_models = client.get_registered_model(model_name)"
   ]
  },
  {
   "cell_type": "code",
   "execution_count": 9,
   "metadata": {},
   "outputs": [],
   "source": [
    "production_model = [\n",
    "    meta for meta in registered_models.latest_versions if meta.current_stage == 'Production']\n",
    "if len(production_model) == 0:\n",
    "    raise Exception(\n",
    "        f\"Moldel Name:{model_name} not production model registered\")\n",
    "else:\n",
    "    production_model = production_model[0]"
   ]
  },
  {
   "cell_type": "code",
   "execution_count": 10,
   "metadata": {},
   "outputs": [
    {
     "name": "stdout",
     "output_type": "stream",
     "text": [
      "run_id:6714af877d514c1a8123f44ca6cd3a77\n"
     ]
    }
   ],
   "source": [
    "run_id = production_model.run_id\n",
    "print(f\"run_id:{run_id}\")"
   ]
  },
  {
   "cell_type": "code",
   "execution_count": 11,
   "metadata": {},
   "outputs": [
    {
     "name": "stdout",
     "output_type": "stream",
     "text": [
      "artifact_uri:s3://s3-mlflow-artifacts-storage/mlflow/15/6714af877d514c1a8123f44ca6cd3a77/artifacts\n"
     ]
    }
   ],
   "source": [
    "# download artifacts\n",
    "artifact_uri = client.get_run(run_id).info.artifact_uri\n",
    "print(f\"artifact_uri:{artifact_uri}\")"
   ]
  },
  {
   "cell_type": "code",
   "execution_count": 12,
   "metadata": {},
   "outputs": [],
   "source": [
    "output = subprocess.run([\"aws\", \"s3\", \"cp\", artifact_uri,\n",
    "                        \"./mlflow_artifacts\", '--recursive'], capture_output=True)"
   ]
  },
  {
   "cell_type": "markdown",
   "metadata": {},
   "source": [
    "## Load Model From Artifacts "
   ]
  },
  {
   "cell_type": "code",
   "execution_count": 13,
   "metadata": {},
   "outputs": [],
   "source": [
    "from mlflow_artifacts.src.model import BSTRecommenderModel\n",
    "from mlflow_artifacts.src.dataset import RatingDataset\n",
    "from mlflow_artifacts.src import utils"
   ]
  },
  {
   "cell_type": "code",
   "execution_count": 14,
   "metadata": {},
   "outputs": [
    {
     "data": {
      "text/plain": [
       "<All keys matched successfully>"
      ]
     },
     "execution_count": 14,
     "metadata": {},
     "output_type": "execute_result"
    }
   ],
   "source": [
    "config_dict = utils.open_json(\"./mlflow_artifacts/artifacts/config.json\")\n",
    "config = utils.Config(config_dict)\n",
    "recommender = BSTRecommenderModel(config)\n",
    "recommender.load_state_dict(torch.load(\n",
    "    \"./mlflow_artifacts/model/pytorch_model.pt\"))"
   ]
  },
  {
   "cell_type": "code",
   "execution_count": 15,
   "metadata": {},
   "outputs": [],
   "source": [
    "test_data = pd.read_parquet(\"./mlflow_artifacts/artifacts/test_data.parquet\")"
   ]
  },
  {
   "cell_type": "code",
   "execution_count": 16,
   "metadata": {},
   "outputs": [],
   "source": [
    "test_data[\"genres_ids_sequence\"] = test_data[\"genres_ids_sequence\"].apply(\n",
    "    lambda x: [array.tolist() for array in x]\n",
    ")"
   ]
  },
  {
   "cell_type": "code",
   "execution_count": 17,
   "metadata": {},
   "outputs": [],
   "source": [
    "test_dataset = RatingDataset(data=test_data)"
   ]
  },
  {
   "cell_type": "code",
   "execution_count": 18,
   "metadata": {},
   "outputs": [],
   "source": [
    "test_loader = DataLoader(\n",
    "    test_dataset, batch_size=config.batch_size, shuffle=True)"
   ]
  },
  {
   "cell_type": "code",
   "execution_count": 19,
   "metadata": {},
   "outputs": [],
   "source": [
    "for inputs in test_loader:\n",
    "    with torch.no_grad():\n",
    "        probs = recommender(inputs)\n",
    "        ratings = inputs[\"target_rating\"].view(-1, 1)\n",
    "        break"
   ]
  },
  {
   "cell_type": "markdown",
   "metadata": {},
   "source": [
    "## Prepare Test Data "
   ]
  },
  {
   "cell_type": "code",
   "execution_count": 20,
   "metadata": {},
   "outputs": [
    {
     "data": {
      "text/plain": [
       "dict_keys(['movie_sequence', 'genres_ids_sequence', 'sex', 'age_group_index', 'target_movie', 'target_rating'])"
      ]
     },
     "execution_count": 20,
     "metadata": {},
     "output_type": "execute_result"
    }
   ],
   "source": [
    "inputs.keys()"
   ]
  },
  {
   "cell_type": "code",
   "execution_count": 21,
   "metadata": {},
   "outputs": [],
   "source": [
    "df_input = pd.DataFrame()"
   ]
  },
  {
   "cell_type": "code",
   "execution_count": 22,
   "metadata": {},
   "outputs": [],
   "source": [
    "movie_id_map_dict = utils.open_object(\n",
    "    \"./mlflow_artifacts/artifacts/movie_id_map_dict.pkl\")\n",
    "movies_to_genres_dict = utils.open_object(\n",
    "    \"./mlflow_artifacts/artifacts/movies_to_genres_dict.pkl\")\n",
    "genres_map_dict = utils.open_object(\n",
    "    \"./mlflow_artifacts/artifacts/genres_map_dict.pkl\")\n",
    "age_group_id_map_dict = utils.open_object(\n",
    "    \"mlflow_artifacts/artifacts/age_group_id_map_dict.pkl\")"
   ]
  },
  {
   "cell_type": "markdown",
   "metadata": {},
   "source": [
    "### List Target Movies "
   ]
  },
  {
   "cell_type": "code",
   "execution_count": 23,
   "metadata": {},
   "outputs": [],
   "source": [
    "target_movies = list(movie_id_map_dict.values())\n",
    "target_movies.remove(movie_id_map_dict[\"UNK\"])\n",
    "df_input[\"target_movie\"] = target_movies"
   ]
  },
  {
   "cell_type": "markdown",
   "metadata": {},
   "source": [
    "### User Movie View Sequence"
   ]
  },
  {
   "cell_type": "code",
   "execution_count": 24,
   "metadata": {},
   "outputs": [],
   "source": [
    "sequence_length = config_dict['sequence_length']\n",
    "random_length = np.random.randint(1, sequence_length-1)\n",
    "movie_ids = random.sample(list(movie_id_map_dict.keys()), k=random_length)"
   ]
  },
  {
   "cell_type": "code",
   "execution_count": 25,
   "metadata": {},
   "outputs": [],
   "source": [
    "movie_sequence_ids = [movie_id_map_dict[id_] for id_ in movie_ids]"
   ]
  },
  {
   "cell_type": "code",
   "execution_count": 26,
   "metadata": {},
   "outputs": [],
   "source": [
    "df_input['movie_sequence'] = [movie_sequence_ids.copy()\n",
    "                              for _ in range(len(df_input))]"
   ]
  },
  {
   "cell_type": "code",
   "execution_count": 27,
   "metadata": {},
   "outputs": [
    {
     "data": {
      "text/html": [
       "<div>\n",
       "<style scoped>\n",
       "    .dataframe tbody tr th:only-of-type {\n",
       "        vertical-align: middle;\n",
       "    }\n",
       "\n",
       "    .dataframe tbody tr th {\n",
       "        vertical-align: top;\n",
       "    }\n",
       "\n",
       "    .dataframe thead th {\n",
       "        text-align: right;\n",
       "    }\n",
       "</style>\n",
       "<table border=\"1\" class=\"dataframe\">\n",
       "  <thead>\n",
       "    <tr style=\"text-align: right;\">\n",
       "      <th></th>\n",
       "      <th>target_movie</th>\n",
       "      <th>movie_sequence</th>\n",
       "    </tr>\n",
       "  </thead>\n",
       "  <tbody>\n",
       "    <tr>\n",
       "      <th>0</th>\n",
       "      <td>1</td>\n",
       "      <td>[937, 1, 2136, 1371]</td>\n",
       "    </tr>\n",
       "    <tr>\n",
       "      <th>1</th>\n",
       "      <td>2</td>\n",
       "      <td>[937, 1, 2136, 1371]</td>\n",
       "    </tr>\n",
       "    <tr>\n",
       "      <th>2</th>\n",
       "      <td>3</td>\n",
       "      <td>[937, 1, 2136, 1371]</td>\n",
       "    </tr>\n",
       "    <tr>\n",
       "      <th>3</th>\n",
       "      <td>4</td>\n",
       "      <td>[937, 1, 2136, 1371]</td>\n",
       "    </tr>\n",
       "    <tr>\n",
       "      <th>4</th>\n",
       "      <td>5</td>\n",
       "      <td>[937, 1, 2136, 1371]</td>\n",
       "    </tr>\n",
       "  </tbody>\n",
       "</table>\n",
       "</div>"
      ],
      "text/plain": [
       "   target_movie        movie_sequence\n",
       "0             1  [937, 1, 2136, 1371]\n",
       "1             2  [937, 1, 2136, 1371]\n",
       "2             3  [937, 1, 2136, 1371]\n",
       "3             4  [937, 1, 2136, 1371]\n",
       "4             5  [937, 1, 2136, 1371]"
      ]
     },
     "execution_count": 27,
     "metadata": {},
     "output_type": "execute_result"
    }
   ],
   "source": [
    "df_input.head()"
   ]
  },
  {
   "cell_type": "code",
   "execution_count": 28,
   "metadata": {},
   "outputs": [],
   "source": [
    "_ = df_input.apply(lambda x: x['movie_sequence'].append(\n",
    "    x['target_movie']), axis=1)"
   ]
  },
  {
   "cell_type": "code",
   "execution_count": 29,
   "metadata": {},
   "outputs": [],
   "source": [
    "df_input[\"movie_sequence\"] = df_input[\"movie_sequence\"].apply(\n",
    "    lambda x: x + sequence_length * [movie_id_map_dict[\"UNK\"]]\n",
    ")"
   ]
  },
  {
   "cell_type": "code",
   "execution_count": 30,
   "metadata": {},
   "outputs": [],
   "source": [
    "df_input[\"movie_sequence\"] = df_input[\"movie_sequence\"].apply(\n",
    "    lambda x: x[:sequence_length]\n",
    ")"
   ]
  },
  {
   "cell_type": "code",
   "execution_count": 31,
   "metadata": {},
   "outputs": [
    {
     "data": {
      "text/html": [
       "<div>\n",
       "<style scoped>\n",
       "    .dataframe tbody tr th:only-of-type {\n",
       "        vertical-align: middle;\n",
       "    }\n",
       "\n",
       "    .dataframe tbody tr th {\n",
       "        vertical-align: top;\n",
       "    }\n",
       "\n",
       "    .dataframe thead th {\n",
       "        text-align: right;\n",
       "    }\n",
       "</style>\n",
       "<table border=\"1\" class=\"dataframe\">\n",
       "  <thead>\n",
       "    <tr style=\"text-align: right;\">\n",
       "      <th></th>\n",
       "      <th>target_movie</th>\n",
       "      <th>movie_sequence</th>\n",
       "    </tr>\n",
       "  </thead>\n",
       "  <tbody>\n",
       "    <tr>\n",
       "      <th>0</th>\n",
       "      <td>1</td>\n",
       "      <td>[937, 1, 2136, 1371, 1, 0]</td>\n",
       "    </tr>\n",
       "    <tr>\n",
       "      <th>1</th>\n",
       "      <td>2</td>\n",
       "      <td>[937, 1, 2136, 1371, 2, 0]</td>\n",
       "    </tr>\n",
       "    <tr>\n",
       "      <th>2</th>\n",
       "      <td>3</td>\n",
       "      <td>[937, 1, 2136, 1371, 3, 0]</td>\n",
       "    </tr>\n",
       "    <tr>\n",
       "      <th>3</th>\n",
       "      <td>4</td>\n",
       "      <td>[937, 1, 2136, 1371, 4, 0]</td>\n",
       "    </tr>\n",
       "    <tr>\n",
       "      <th>4</th>\n",
       "      <td>5</td>\n",
       "      <td>[937, 1, 2136, 1371, 5, 0]</td>\n",
       "    </tr>\n",
       "  </tbody>\n",
       "</table>\n",
       "</div>"
      ],
      "text/plain": [
       "   target_movie              movie_sequence\n",
       "0             1  [937, 1, 2136, 1371, 1, 0]\n",
       "1             2  [937, 1, 2136, 1371, 2, 0]\n",
       "2             3  [937, 1, 2136, 1371, 3, 0]\n",
       "3             4  [937, 1, 2136, 1371, 4, 0]\n",
       "4             5  [937, 1, 2136, 1371, 5, 0]"
      ]
     },
     "execution_count": 31,
     "metadata": {},
     "output_type": "execute_result"
    }
   ],
   "source": [
    "df_input.head()"
   ]
  },
  {
   "cell_type": "markdown",
   "metadata": {},
   "source": [
    "### Movie Genres"
   ]
  },
  {
   "cell_type": "code",
   "execution_count": 32,
   "metadata": {},
   "outputs": [],
   "source": [
    "movies_to_genres_dict[movie_id_map_dict['UNK']] = [\n",
    "    genres_map_dict['UNK']]*len(movies_to_genres_dict[1])\n",
    "df_input['genres_ids_sequence'] = df_input['movie_sequence'].apply(\n",
    "    lambda x: [movies_to_genres_dict[id_] for id_ in x])"
   ]
  },
  {
   "cell_type": "markdown",
   "metadata": {},
   "source": [
    "### Sex"
   ]
  },
  {
   "cell_type": "code",
   "execution_count": 33,
   "metadata": {},
   "outputs": [],
   "source": [
    "df_input['sex'] = random.randint(0, 2)"
   ]
  },
  {
   "cell_type": "markdown",
   "metadata": {},
   "source": [
    "## Age Group"
   ]
  },
  {
   "cell_type": "code",
   "execution_count": 34,
   "metadata": {},
   "outputs": [],
   "source": [
    "age_group = random.sample(list(age_group_id_map_dict.keys()), k=1)[0]"
   ]
  },
  {
   "cell_type": "code",
   "execution_count": 35,
   "metadata": {},
   "outputs": [],
   "source": [
    "age_group_index = age_group_id_map_dict[age_group]"
   ]
  },
  {
   "cell_type": "code",
   "execution_count": 36,
   "metadata": {},
   "outputs": [
    {
     "data": {
      "text/plain": [
       "4"
      ]
     },
     "execution_count": 36,
     "metadata": {},
     "output_type": "execute_result"
    }
   ],
   "source": [
    "age_group_index"
   ]
  },
  {
   "cell_type": "code",
   "execution_count": 37,
   "metadata": {},
   "outputs": [],
   "source": [
    "df_input['age_group_index'] = age_group_index"
   ]
  },
  {
   "cell_type": "markdown",
   "metadata": {},
   "source": [
    "## Prepare Dataset"
   ]
  },
  {
   "cell_type": "code",
   "execution_count": 38,
   "metadata": {},
   "outputs": [],
   "source": [
    "inference_dataset = RatingDataset(data=df_input)"
   ]
  },
  {
   "cell_type": "code",
   "execution_count": 39,
   "metadata": {},
   "outputs": [],
   "source": [
    "inference_loader = DataLoader(\n",
    "    inference_dataset, batch_size=config.batch_size, shuffle=False)"
   ]
  },
  {
   "cell_type": "markdown",
   "metadata": {},
   "source": [
    "## Inference"
   ]
  },
  {
   "cell_type": "code",
   "execution_count": 40,
   "metadata": {},
   "outputs": [],
   "source": [
    "probs_list = []\n",
    "for inputs in inference_loader:\n",
    "    with torch.no_grad():\n",
    "        probs = recommender(inputs)\n",
    "        probs_list.append(probs.cpu().numpy())"
   ]
  },
  {
   "cell_type": "code",
   "execution_count": 41,
   "metadata": {},
   "outputs": [],
   "source": [
    "df_input['rating'] = np.concatenate(probs_list)[:, 0]"
   ]
  },
  {
   "cell_type": "code",
   "execution_count": 42,
   "metadata": {},
   "outputs": [],
   "source": [
    "df_input = df_input.sort_values(by='rating', ascending=False)"
   ]
  },
  {
   "cell_type": "code",
   "execution_count": 43,
   "metadata": {},
   "outputs": [],
   "source": [
    "reverse_movie_id_map_dict = {remap_id: id_ for id_,\n",
    "                             remap_id in movie_id_map_dict.items()}"
   ]
  },
  {
   "cell_type": "code",
   "execution_count": 44,
   "metadata": {},
   "outputs": [],
   "source": [
    "df_input[\"movie_id\"] = df_input[\"target_movie\"].map(reverse_movie_id_map_dict)"
   ]
  },
  {
   "cell_type": "code",
   "execution_count": 45,
   "metadata": {},
   "outputs": [
    {
     "data": {
      "text/html": [
       "<div>\n",
       "<style scoped>\n",
       "    .dataframe tbody tr th:only-of-type {\n",
       "        vertical-align: middle;\n",
       "    }\n",
       "\n",
       "    .dataframe tbody tr th {\n",
       "        vertical-align: top;\n",
       "    }\n",
       "\n",
       "    .dataframe thead th {\n",
       "        text-align: right;\n",
       "    }\n",
       "</style>\n",
       "<table border=\"1\" class=\"dataframe\">\n",
       "  <thead>\n",
       "    <tr style=\"text-align: right;\">\n",
       "      <th></th>\n",
       "      <th>target_movie</th>\n",
       "      <th>movie_sequence</th>\n",
       "      <th>genres_ids_sequence</th>\n",
       "      <th>sex</th>\n",
       "      <th>age_group_index</th>\n",
       "      <th>rating</th>\n",
       "      <th>movie_id</th>\n",
       "    </tr>\n",
       "  </thead>\n",
       "  <tbody>\n",
       "    <tr>\n",
       "      <th>908</th>\n",
       "      <td>909</td>\n",
       "      <td>[937, 1, 2136, 1371, 909, 0]</td>\n",
       "      <td>[[8, 0, 0, 0], [3, 4, 5, 0], [16, 0, 0, 0], [1...</td>\n",
       "      <td>2</td>\n",
       "      <td>4</td>\n",
       "      <td>1.000000e+00</td>\n",
       "      <td>920</td>\n",
       "    </tr>\n",
       "    <tr>\n",
       "      <th>911</th>\n",
       "      <td>912</td>\n",
       "      <td>[937, 1, 2136, 1371, 912, 0]</td>\n",
       "      <td>[[8, 0, 0, 0], [3, 4, 5, 0], [16, 0, 0, 0], [1...</td>\n",
       "      <td>2</td>\n",
       "      <td>4</td>\n",
       "      <td>1.000000e+00</td>\n",
       "      <td>923</td>\n",
       "    </tr>\n",
       "    <tr>\n",
       "      <th>3020</th>\n",
       "      <td>3021</td>\n",
       "      <td>[937, 1, 2136, 1371, 3021, 0]</td>\n",
       "      <td>[[8, 0, 0, 0], [3, 4, 5, 0], [16, 0, 0, 0], [1...</td>\n",
       "      <td>2</td>\n",
       "      <td>4</td>\n",
       "      <td>1.000000e+00</td>\n",
       "      <td>3089</td>\n",
       "    </tr>\n",
       "    <tr>\n",
       "      <th>315</th>\n",
       "      <td>316</td>\n",
       "      <td>[937, 1, 2136, 1371, 316, 0]</td>\n",
       "      <td>[[8, 0, 0, 0], [3, 4, 5, 0], [16, 0, 0, 0], [1...</td>\n",
       "      <td>2</td>\n",
       "      <td>4</td>\n",
       "      <td>1.000000e+00</td>\n",
       "      <td>318</td>\n",
       "    </tr>\n",
       "    <tr>\n",
       "      <th>1205</th>\n",
       "      <td>1206</td>\n",
       "      <td>[937, 1, 2136, 1371, 1206, 0]</td>\n",
       "      <td>[[8, 0, 0, 0], [3, 4, 5, 0], [16, 0, 0, 0], [1...</td>\n",
       "      <td>2</td>\n",
       "      <td>4</td>\n",
       "      <td>1.000000e+00</td>\n",
       "      <td>1223</td>\n",
       "    </tr>\n",
       "    <tr>\n",
       "      <th>...</th>\n",
       "      <td>...</td>\n",
       "      <td>...</td>\n",
       "      <td>...</td>\n",
       "      <td>...</td>\n",
       "      <td>...</td>\n",
       "      <td>...</td>\n",
       "      <td>...</td>\n",
       "    </tr>\n",
       "    <tr>\n",
       "      <th>3870</th>\n",
       "      <td>3871</td>\n",
       "      <td>[937, 1, 2136, 1371, 3871, 0]</td>\n",
       "      <td>[[8, 0, 0, 0], [3, 4, 5, 0], [16, 0, 0, 0], [1...</td>\n",
       "      <td>2</td>\n",
       "      <td>4</td>\n",
       "      <td>2.140236e-18</td>\n",
       "      <td>3940</td>\n",
       "    </tr>\n",
       "    <tr>\n",
       "      <th>3868</th>\n",
       "      <td>3869</td>\n",
       "      <td>[937, 1, 2136, 1371, 3869, 0]</td>\n",
       "      <td>[[8, 0, 0, 0], [3, 4, 5, 0], [16, 0, 0, 0], [1...</td>\n",
       "      <td>2</td>\n",
       "      <td>4</td>\n",
       "      <td>1.917609e-19</td>\n",
       "      <td>3938</td>\n",
       "    </tr>\n",
       "    <tr>\n",
       "      <th>1909</th>\n",
       "      <td>1910</td>\n",
       "      <td>[937, 1, 2136, 1371, 1910, 0]</td>\n",
       "      <td>[[8, 0, 0, 0], [3, 4, 5, 0], [16, 0, 0, 0], [1...</td>\n",
       "      <td>2</td>\n",
       "      <td>4</td>\n",
       "      <td>2.821471e-22</td>\n",
       "      <td>1978</td>\n",
       "    </tr>\n",
       "    <tr>\n",
       "      <th>3869</th>\n",
       "      <td>3870</td>\n",
       "      <td>[937, 1, 2136, 1371, 3870, 0]</td>\n",
       "      <td>[[8, 0, 0, 0], [3, 4, 5, 0], [16, 0, 0, 0], [1...</td>\n",
       "      <td>2</td>\n",
       "      <td>4</td>\n",
       "      <td>5.821185e-25</td>\n",
       "      <td>3939</td>\n",
       "    </tr>\n",
       "    <tr>\n",
       "      <th>2343</th>\n",
       "      <td>2344</td>\n",
       "      <td>[937, 1, 2136, 1371, 2344, 0]</td>\n",
       "      <td>[[8, 0, 0, 0], [3, 4, 5, 0], [16, 0, 0, 0], [1...</td>\n",
       "      <td>2</td>\n",
       "      <td>4</td>\n",
       "      <td>4.570998e-26</td>\n",
       "      <td>2412</td>\n",
       "    </tr>\n",
       "  </tbody>\n",
       "</table>\n",
       "<p>3883 rows × 7 columns</p>\n",
       "</div>"
      ],
      "text/plain": [
       "      target_movie                 movie_sequence  \\\n",
       "908            909   [937, 1, 2136, 1371, 909, 0]   \n",
       "911            912   [937, 1, 2136, 1371, 912, 0]   \n",
       "3020          3021  [937, 1, 2136, 1371, 3021, 0]   \n",
       "315            316   [937, 1, 2136, 1371, 316, 0]   \n",
       "1205          1206  [937, 1, 2136, 1371, 1206, 0]   \n",
       "...            ...                            ...   \n",
       "3870          3871  [937, 1, 2136, 1371, 3871, 0]   \n",
       "3868          3869  [937, 1, 2136, 1371, 3869, 0]   \n",
       "1909          1910  [937, 1, 2136, 1371, 1910, 0]   \n",
       "3869          3870  [937, 1, 2136, 1371, 3870, 0]   \n",
       "2343          2344  [937, 1, 2136, 1371, 2344, 0]   \n",
       "\n",
       "                                    genres_ids_sequence  sex  age_group_index  \\\n",
       "908   [[8, 0, 0, 0], [3, 4, 5, 0], [16, 0, 0, 0], [1...    2                4   \n",
       "911   [[8, 0, 0, 0], [3, 4, 5, 0], [16, 0, 0, 0], [1...    2                4   \n",
       "3020  [[8, 0, 0, 0], [3, 4, 5, 0], [16, 0, 0, 0], [1...    2                4   \n",
       "315   [[8, 0, 0, 0], [3, 4, 5, 0], [16, 0, 0, 0], [1...    2                4   \n",
       "1205  [[8, 0, 0, 0], [3, 4, 5, 0], [16, 0, 0, 0], [1...    2                4   \n",
       "...                                                 ...  ...              ...   \n",
       "3870  [[8, 0, 0, 0], [3, 4, 5, 0], [16, 0, 0, 0], [1...    2                4   \n",
       "3868  [[8, 0, 0, 0], [3, 4, 5, 0], [16, 0, 0, 0], [1...    2                4   \n",
       "1909  [[8, 0, 0, 0], [3, 4, 5, 0], [16, 0, 0, 0], [1...    2                4   \n",
       "3869  [[8, 0, 0, 0], [3, 4, 5, 0], [16, 0, 0, 0], [1...    2                4   \n",
       "2343  [[8, 0, 0, 0], [3, 4, 5, 0], [16, 0, 0, 0], [1...    2                4   \n",
       "\n",
       "            rating movie_id  \n",
       "908   1.000000e+00      920  \n",
       "911   1.000000e+00      923  \n",
       "3020  1.000000e+00     3089  \n",
       "315   1.000000e+00      318  \n",
       "1205  1.000000e+00     1223  \n",
       "...            ...      ...  \n",
       "3870  2.140236e-18     3940  \n",
       "3868  1.917609e-19     3938  \n",
       "1909  2.821471e-22     1978  \n",
       "3869  5.821185e-25     3939  \n",
       "2343  4.570998e-26     2412  \n",
       "\n",
       "[3883 rows x 7 columns]"
      ]
     },
     "execution_count": 45,
     "metadata": {},
     "output_type": "execute_result"
    }
   ],
   "source": [
    "df_input"
   ]
  },
  {
   "cell_type": "code",
   "execution_count": 46,
   "metadata": {},
   "outputs": [],
   "source": [
    "movies = pd.read_csv(\n",
    "    \"ml-1m/movies.dat\",\n",
    "    sep=\"::\",\n",
    "    names=[\"movie_id\", \"title\", \"genres\"],\n",
    "    engine=\"python\",\n",
    "    encoding=\"ISO-8859-1\",\n",
    ")"
   ]
  },
  {
   "cell_type": "code",
   "execution_count": 47,
   "metadata": {},
   "outputs": [
    {
     "data": {
      "text/html": [
       "<div>\n",
       "<style scoped>\n",
       "    .dataframe tbody tr th:only-of-type {\n",
       "        vertical-align: middle;\n",
       "    }\n",
       "\n",
       "    .dataframe tbody tr th {\n",
       "        vertical-align: top;\n",
       "    }\n",
       "\n",
       "    .dataframe thead th {\n",
       "        text-align: right;\n",
       "    }\n",
       "</style>\n",
       "<table border=\"1\" class=\"dataframe\">\n",
       "  <thead>\n",
       "    <tr style=\"text-align: right;\">\n",
       "      <th></th>\n",
       "      <th>target_movie</th>\n",
       "      <th>movie_sequence</th>\n",
       "      <th>genres_ids_sequence</th>\n",
       "      <th>sex</th>\n",
       "      <th>age_group_index</th>\n",
       "      <th>rating</th>\n",
       "      <th>movie_id</th>\n",
       "      <th>title</th>\n",
       "      <th>genres</th>\n",
       "    </tr>\n",
       "  </thead>\n",
       "  <tbody>\n",
       "    <tr>\n",
       "      <th>0</th>\n",
       "      <td>909</td>\n",
       "      <td>[937, 1, 2136, 1371, 909, 0]</td>\n",
       "      <td>[[8, 0, 0, 0], [3, 4, 5, 0], [16, 0, 0, 0], [1...</td>\n",
       "      <td>2</td>\n",
       "      <td>4</td>\n",
       "      <td>1.000000e+00</td>\n",
       "      <td>920</td>\n",
       "      <td>Gone with the Wind (1939)</td>\n",
       "      <td>Drama|Romance|War</td>\n",
       "    </tr>\n",
       "    <tr>\n",
       "      <th>1</th>\n",
       "      <td>912</td>\n",
       "      <td>[937, 1, 2136, 1371, 912, 0]</td>\n",
       "      <td>[[8, 0, 0, 0], [3, 4, 5, 0], [16, 0, 0, 0], [1...</td>\n",
       "      <td>2</td>\n",
       "      <td>4</td>\n",
       "      <td>1.000000e+00</td>\n",
       "      <td>923</td>\n",
       "      <td>Citizen Kane (1941)</td>\n",
       "      <td>Drama</td>\n",
       "    </tr>\n",
       "    <tr>\n",
       "      <th>2</th>\n",
       "      <td>3021</td>\n",
       "      <td>[937, 1, 2136, 1371, 3021, 0]</td>\n",
       "      <td>[[8, 0, 0, 0], [3, 4, 5, 0], [16, 0, 0, 0], [1...</td>\n",
       "      <td>2</td>\n",
       "      <td>4</td>\n",
       "      <td>1.000000e+00</td>\n",
       "      <td>3089</td>\n",
       "      <td>Bicycle Thief, The (Ladri di biciclette) (1948)</td>\n",
       "      <td>Drama</td>\n",
       "    </tr>\n",
       "    <tr>\n",
       "      <th>3</th>\n",
       "      <td>316</td>\n",
       "      <td>[937, 1, 2136, 1371, 316, 0]</td>\n",
       "      <td>[[8, 0, 0, 0], [3, 4, 5, 0], [16, 0, 0, 0], [1...</td>\n",
       "      <td>2</td>\n",
       "      <td>4</td>\n",
       "      <td>1.000000e+00</td>\n",
       "      <td>318</td>\n",
       "      <td>Shawshank Redemption, The (1994)</td>\n",
       "      <td>Drama</td>\n",
       "    </tr>\n",
       "    <tr>\n",
       "      <th>4</th>\n",
       "      <td>1206</td>\n",
       "      <td>[937, 1, 2136, 1371, 1206, 0]</td>\n",
       "      <td>[[8, 0, 0, 0], [3, 4, 5, 0], [16, 0, 0, 0], [1...</td>\n",
       "      <td>2</td>\n",
       "      <td>4</td>\n",
       "      <td>1.000000e+00</td>\n",
       "      <td>1223</td>\n",
       "      <td>Grand Day Out, A (1992)</td>\n",
       "      <td>Animation|Comedy</td>\n",
       "    </tr>\n",
       "    <tr>\n",
       "      <th>...</th>\n",
       "      <td>...</td>\n",
       "      <td>...</td>\n",
       "      <td>...</td>\n",
       "      <td>...</td>\n",
       "      <td>...</td>\n",
       "      <td>...</td>\n",
       "      <td>...</td>\n",
       "      <td>...</td>\n",
       "      <td>...</td>\n",
       "    </tr>\n",
       "    <tr>\n",
       "      <th>3878</th>\n",
       "      <td>3871</td>\n",
       "      <td>[937, 1, 2136, 1371, 3871, 0]</td>\n",
       "      <td>[[8, 0, 0, 0], [3, 4, 5, 0], [16, 0, 0, 0], [1...</td>\n",
       "      <td>2</td>\n",
       "      <td>4</td>\n",
       "      <td>2.140236e-18</td>\n",
       "      <td>3940</td>\n",
       "      <td>Slumber Party Massacre III, The (1990)</td>\n",
       "      <td>Horror</td>\n",
       "    </tr>\n",
       "    <tr>\n",
       "      <th>3879</th>\n",
       "      <td>3869</td>\n",
       "      <td>[937, 1, 2136, 1371, 3869, 0]</td>\n",
       "      <td>[[8, 0, 0, 0], [3, 4, 5, 0], [16, 0, 0, 0], [1...</td>\n",
       "      <td>2</td>\n",
       "      <td>4</td>\n",
       "      <td>1.917609e-19</td>\n",
       "      <td>3938</td>\n",
       "      <td>Slumber Party Massacre, The (1982)</td>\n",
       "      <td>Horror</td>\n",
       "    </tr>\n",
       "    <tr>\n",
       "      <th>3880</th>\n",
       "      <td>1910</td>\n",
       "      <td>[937, 1, 2136, 1371, 1910, 0]</td>\n",
       "      <td>[[8, 0, 0, 0], [3, 4, 5, 0], [16, 0, 0, 0], [1...</td>\n",
       "      <td>2</td>\n",
       "      <td>4</td>\n",
       "      <td>2.821471e-22</td>\n",
       "      <td>1978</td>\n",
       "      <td>Friday the 13th Part V: A New Beginning (1985)</td>\n",
       "      <td>Horror</td>\n",
       "    </tr>\n",
       "    <tr>\n",
       "      <th>3881</th>\n",
       "      <td>3870</td>\n",
       "      <td>[937, 1, 2136, 1371, 3870, 0]</td>\n",
       "      <td>[[8, 0, 0, 0], [3, 4, 5, 0], [16, 0, 0, 0], [1...</td>\n",
       "      <td>2</td>\n",
       "      <td>4</td>\n",
       "      <td>5.821185e-25</td>\n",
       "      <td>3939</td>\n",
       "      <td>Slumber Party Massacre II, The (1987)</td>\n",
       "      <td>Horror</td>\n",
       "    </tr>\n",
       "    <tr>\n",
       "      <th>3882</th>\n",
       "      <td>2344</td>\n",
       "      <td>[937, 1, 2136, 1371, 2344, 0]</td>\n",
       "      <td>[[8, 0, 0, 0], [3, 4, 5, 0], [16, 0, 0, 0], [1...</td>\n",
       "      <td>2</td>\n",
       "      <td>4</td>\n",
       "      <td>4.570998e-26</td>\n",
       "      <td>2412</td>\n",
       "      <td>Rocky V (1990)</td>\n",
       "      <td>Action|Drama</td>\n",
       "    </tr>\n",
       "  </tbody>\n",
       "</table>\n",
       "<p>3883 rows × 9 columns</p>\n",
       "</div>"
      ],
      "text/plain": [
       "      target_movie                 movie_sequence  \\\n",
       "0              909   [937, 1, 2136, 1371, 909, 0]   \n",
       "1              912   [937, 1, 2136, 1371, 912, 0]   \n",
       "2             3021  [937, 1, 2136, 1371, 3021, 0]   \n",
       "3              316   [937, 1, 2136, 1371, 316, 0]   \n",
       "4             1206  [937, 1, 2136, 1371, 1206, 0]   \n",
       "...            ...                            ...   \n",
       "3878          3871  [937, 1, 2136, 1371, 3871, 0]   \n",
       "3879          3869  [937, 1, 2136, 1371, 3869, 0]   \n",
       "3880          1910  [937, 1, 2136, 1371, 1910, 0]   \n",
       "3881          3870  [937, 1, 2136, 1371, 3870, 0]   \n",
       "3882          2344  [937, 1, 2136, 1371, 2344, 0]   \n",
       "\n",
       "                                    genres_ids_sequence  sex  age_group_index  \\\n",
       "0     [[8, 0, 0, 0], [3, 4, 5, 0], [16, 0, 0, 0], [1...    2                4   \n",
       "1     [[8, 0, 0, 0], [3, 4, 5, 0], [16, 0, 0, 0], [1...    2                4   \n",
       "2     [[8, 0, 0, 0], [3, 4, 5, 0], [16, 0, 0, 0], [1...    2                4   \n",
       "3     [[8, 0, 0, 0], [3, 4, 5, 0], [16, 0, 0, 0], [1...    2                4   \n",
       "4     [[8, 0, 0, 0], [3, 4, 5, 0], [16, 0, 0, 0], [1...    2                4   \n",
       "...                                                 ...  ...              ...   \n",
       "3878  [[8, 0, 0, 0], [3, 4, 5, 0], [16, 0, 0, 0], [1...    2                4   \n",
       "3879  [[8, 0, 0, 0], [3, 4, 5, 0], [16, 0, 0, 0], [1...    2                4   \n",
       "3880  [[8, 0, 0, 0], [3, 4, 5, 0], [16, 0, 0, 0], [1...    2                4   \n",
       "3881  [[8, 0, 0, 0], [3, 4, 5, 0], [16, 0, 0, 0], [1...    2                4   \n",
       "3882  [[8, 0, 0, 0], [3, 4, 5, 0], [16, 0, 0, 0], [1...    2                4   \n",
       "\n",
       "            rating movie_id                                            title  \\\n",
       "0     1.000000e+00      920                        Gone with the Wind (1939)   \n",
       "1     1.000000e+00      923                              Citizen Kane (1941)   \n",
       "2     1.000000e+00     3089  Bicycle Thief, The (Ladri di biciclette) (1948)   \n",
       "3     1.000000e+00      318                 Shawshank Redemption, The (1994)   \n",
       "4     1.000000e+00     1223                          Grand Day Out, A (1992)   \n",
       "...            ...      ...                                              ...   \n",
       "3878  2.140236e-18     3940           Slumber Party Massacre III, The (1990)   \n",
       "3879  1.917609e-19     3938               Slumber Party Massacre, The (1982)   \n",
       "3880  2.821471e-22     1978   Friday the 13th Part V: A New Beginning (1985)   \n",
       "3881  5.821185e-25     3939            Slumber Party Massacre II, The (1987)   \n",
       "3882  4.570998e-26     2412                                   Rocky V (1990)   \n",
       "\n",
       "                 genres  \n",
       "0     Drama|Romance|War  \n",
       "1                 Drama  \n",
       "2                 Drama  \n",
       "3                 Drama  \n",
       "4      Animation|Comedy  \n",
       "...                 ...  \n",
       "3878             Horror  \n",
       "3879             Horror  \n",
       "3880             Horror  \n",
       "3881             Horror  \n",
       "3882       Action|Drama  \n",
       "\n",
       "[3883 rows x 9 columns]"
      ]
     },
     "execution_count": 47,
     "metadata": {},
     "output_type": "execute_result"
    }
   ],
   "source": [
    "df_input.merge(movies)"
   ]
  },
  {
   "cell_type": "code",
   "execution_count": null,
   "metadata": {},
   "outputs": [],
   "source": []
  }
 ],
 "metadata": {
  "kernelspec": {
   "display_name": "torch",
   "language": "python",
   "name": "python3"
  },
  "language_info": {
   "codemirror_mode": {
    "name": "ipython",
    "version": 3
   },
   "file_extension": ".py",
   "mimetype": "text/x-python",
   "name": "python",
   "nbconvert_exporter": "python",
   "pygments_lexer": "ipython3",
   "version": "3.11.3"
  },
  "orig_nbformat": 4
 },
 "nbformat": 4,
 "nbformat_minor": 2
}
