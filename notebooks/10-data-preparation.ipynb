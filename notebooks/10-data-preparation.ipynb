{
  "cells": [
    {
      "attachments": {},
      "cell_type": "markdown",
      "metadata": {
        "id": "aUG4oG3JSGCn"
      },
      "source": [
        "# A Behavior Sequence Transformer For Next Movie Recommendation\n",
        "\n",
        "**Author:** [Nelson Lin](https://www.linkedin.com/in/nelson-lin-842564164/)<br>\n",
        "**Date created:** 2024/07/09<br>\n",
        "**Last modified:** 2024/07/09<br>\n",
        "**Description:** Rating rate prediction using the Behavior Sequence Transformer (BST) model on the Movielens 1M.\n"
      ]
    },
    {
      "attachments": {},
      "cell_type": "markdown",
      "metadata": {
        "id": "10UcMwj-Sjqv"
      },
      "source": [
        "## (1) Notebook Settings\n"
      ]
    },
    {
      "cell_type": "code",
      "execution_count": 1,
      "metadata": {},
      "outputs": [],
      "source": [
        "%load_ext autoreload\n",
        "%autoreload 2"
      ]
    },
    {
      "cell_type": "markdown",
      "metadata": {},
      "source": []
    },
    {
      "cell_type": "code",
      "execution_count": 2,
      "metadata": {
        "id": "RxoBk0OkSvPn"
      },
      "outputs": [],
      "source": [
        "import os\n",
        "import pandas as pd\n",
        "import numpy as np\n",
        "from zipfile import ZipFile\n",
        "from urllib.request import urlretrieve\n",
        "from sklearn.preprocessing import MinMaxScaler\n",
        "import random\n",
        "\n",
        "os.chdir(\"./../\")"
      ]
    },
    {
      "cell_type": "code",
      "execution_count": 3,
      "metadata": {},
      "outputs": [],
      "source": [
        "from src import utils"
      ]
    },
    {
      "cell_type": "code",
      "execution_count": 4,
      "metadata": {},
      "outputs": [],
      "source": [
        "# Set random seed for reproducibility\n",
        "np.random.seed(0)\n",
        "random.seed(0)"
      ]
    },
    {
      "attachments": {},
      "cell_type": "markdown",
      "metadata": {
        "id": "Z_RHfTP4S3IZ"
      },
      "source": [
        "## (2) Data preparation\n"
      ]
    },
    {
      "attachments": {},
      "cell_type": "markdown",
      "metadata": {
        "id": "Tm747EdZU1bZ"
      },
      "source": [
        "### Load Data\n"
      ]
    },
    {
      "cell_type": "code",
      "execution_count": 5,
      "metadata": {
        "id": "KrasdLSrSG1x"
      },
      "outputs": [],
      "source": [
        "urlretrieve(\n",
        "    \"http://files.grouplens.org/datasets/movielens/ml-1m.zip\", \"movielens.zip\")\n",
        "ZipFile(\"movielens.zip\", \"r\").extractall()"
      ]
    },
    {
      "cell_type": "code",
      "execution_count": 6,
      "metadata": {
        "id": "c8YFIdZeSxaH"
      },
      "outputs": [],
      "source": [
        "users = pd.read_csv(\n",
        "    \"ml-1m/users.dat\",\n",
        "    sep=\"::\",\n",
        "    names=[\"user_id\", \"sex\", \"age_group\", \"occupation\", \"zip_code\"],\n",
        "    engine=\"python\",\n",
        ")\n",
        "\n",
        "ratings = pd.read_csv(\n",
        "    \"ml-1m/ratings.dat\",\n",
        "    sep=\"::\",\n",
        "    names=[\"user_id\", \"movie_id\", \"rating\", \"unix_timestamp\"],\n",
        "    engine=\"python\",\n",
        ")\n",
        "\n",
        "movies = pd.read_csv(\n",
        "    \"ml-1m/movies.dat\",\n",
        "    sep=\"::\",\n",
        "    names=[\"movie_id\", \"title\", \"genres\"],\n",
        "    engine=\"python\",\n",
        "    encoding=\"ISO-8859-1\",\n",
        ")"
      ]
    },
    {
      "attachments": {},
      "cell_type": "markdown",
      "metadata": {
        "id": "MMRanAvKU9t1"
      },
      "source": [
        "### Remap ID to index\n"
      ]
    },
    {
      "cell_type": "code",
      "execution_count": 7,
      "metadata": {
        "id": "AxDgQLlHS17f"
      },
      "outputs": [],
      "source": [
        "# remap the id to index\n",
        "def generate_remap_id_dict(df, col):\n",
        "    ids = df[df[col].notnull()][col].unique().tolist()\n",
        "    ids = sorted(ids)\n",
        "    id_map_dict = {x: i + 1 for i, x in enumerate(ids)}\n",
        "    id_map_dict[\"UNK\"] = 0\n",
        "\n",
        "    df[f\"{col}_index\"] = df[col].fillna(\"UNK\").map(id_map_dict)\n",
        "\n",
        "    return id_map_dict"
      ]
    },
    {
      "cell_type": "code",
      "execution_count": 8,
      "metadata": {
        "id": "hsCN2BJ0UAQC"
      },
      "outputs": [],
      "source": [
        "# Sex\n",
        "sex_id_map_dict = {\"M\": 0.0, \"F\": 1.0, \"UNK\": 0.5}\n",
        "utils.save_object(\"artifacts/sex_id_map_dict.pkl\", sex_id_map_dict)\n",
        "\n",
        "users[\"sex\"] = users[\"sex\"].map(sex_id_map_dict)"
      ]
    },
    {
      "cell_type": "code",
      "execution_count": 9,
      "metadata": {
        "id": "dGTwjedfTfN1"
      },
      "outputs": [],
      "source": [
        "# Age\n",
        "age_group_id_map_dict = generate_remap_id_dict(users, col=\"age_group\")\n",
        "utils.save_object(\"artifacts/age_group_id_map_dict.pkl\", age_group_id_map_dict)"
      ]
    },
    {
      "cell_type": "code",
      "execution_count": 10,
      "metadata": {},
      "outputs": [],
      "source": [
        "# Rating\n",
        "min_max_scaler = MinMaxScaler()\n",
        "ratings[\"norm_rating\"] = min_max_scaler.fit_transform(\n",
        "    ratings[\"rating\"].values.reshape(-1, 1)\n",
        ")[:, 0]\n",
        "utils.save_object(\"artifacts/rating_min_max_scaler.pkl\", min_max_scaler)"
      ]
    },
    {
      "cell_type": "code",
      "execution_count": 11,
      "metadata": {
        "id": "gqur_n48Trck"
      },
      "outputs": [],
      "source": [
        "# Movie\n",
        "movie_id_map_dict = generate_remap_id_dict(movies, col=\"movie_id\")\n",
        "utils.save_object(\"artifacts/movie_id_map_dict.pkl\", movie_id_map_dict)"
      ]
    },
    {
      "cell_type": "code",
      "execution_count": 12,
      "metadata": {
        "id": "DSu3fNkyTv6D"
      },
      "outputs": [],
      "source": [
        "# Genres\n",
        "genres_set = set()\n",
        "\n",
        "\n",
        "def get_genres_set(genres):\n",
        "    global genres_set\n",
        "    genres_split = genres.split(\"|\")\n",
        "    genres_set.update(genres_split)\n",
        "    return genres_split\n",
        "\n",
        "\n",
        "movies[\"genres\"] = movies[\"genres\"].apply(lambda x: get_genres_set(x))\n",
        "genres_map_dict = {x: i + 1 for i, x in enumerate(sorted(genres_set))}\n",
        "genres_map_dict[\"UNK\"] = 0\n",
        "utils.save_object(\"artifacts/genres_map_dict.pkl\", genres_map_dict)"
      ]
    },
    {
      "cell_type": "code",
      "execution_count": 13,
      "metadata": {},
      "outputs": [
        {
          "data": {
            "text/html": [
              "<div>\n",
              "<style scoped>\n",
              "    .dataframe tbody tr th:only-of-type {\n",
              "        vertical-align: middle;\n",
              "    }\n",
              "\n",
              "    .dataframe tbody tr th {\n",
              "        vertical-align: top;\n",
              "    }\n",
              "\n",
              "    .dataframe thead th {\n",
              "        text-align: right;\n",
              "    }\n",
              "</style>\n",
              "<table border=\"1\" class=\"dataframe\">\n",
              "  <thead>\n",
              "    <tr style=\"text-align: right;\">\n",
              "      <th></th>\n",
              "      <th>movie_id</th>\n",
              "      <th>title</th>\n",
              "      <th>genres</th>\n",
              "      <th>movie_id_index</th>\n",
              "    </tr>\n",
              "  </thead>\n",
              "  <tbody>\n",
              "    <tr>\n",
              "      <th>0</th>\n",
              "      <td>1</td>\n",
              "      <td>Toy Story (1995)</td>\n",
              "      <td>[Animation, Children's, Comedy]</td>\n",
              "      <td>1</td>\n",
              "    </tr>\n",
              "    <tr>\n",
              "      <th>1</th>\n",
              "      <td>2</td>\n",
              "      <td>Jumanji (1995)</td>\n",
              "      <td>[Adventure, Children's, Fantasy]</td>\n",
              "      <td>2</td>\n",
              "    </tr>\n",
              "    <tr>\n",
              "      <th>2</th>\n",
              "      <td>3</td>\n",
              "      <td>Grumpier Old Men (1995)</td>\n",
              "      <td>[Comedy, Romance]</td>\n",
              "      <td>3</td>\n",
              "    </tr>\n",
              "    <tr>\n",
              "      <th>3</th>\n",
              "      <td>4</td>\n",
              "      <td>Waiting to Exhale (1995)</td>\n",
              "      <td>[Comedy, Drama]</td>\n",
              "      <td>4</td>\n",
              "    </tr>\n",
              "    <tr>\n",
              "      <th>4</th>\n",
              "      <td>5</td>\n",
              "      <td>Father of the Bride Part II (1995)</td>\n",
              "      <td>[Comedy]</td>\n",
              "      <td>5</td>\n",
              "    </tr>\n",
              "  </tbody>\n",
              "</table>\n",
              "</div>"
            ],
            "text/plain": [
              "   movie_id                               title  \\\n",
              "0         1                    Toy Story (1995)   \n",
              "1         2                      Jumanji (1995)   \n",
              "2         3             Grumpier Old Men (1995)   \n",
              "3         4            Waiting to Exhale (1995)   \n",
              "4         5  Father of the Bride Part II (1995)   \n",
              "\n",
              "                             genres  movie_id_index  \n",
              "0   [Animation, Children's, Comedy]               1  \n",
              "1  [Adventure, Children's, Fantasy]               2  \n",
              "2                 [Comedy, Romance]               3  \n",
              "3                   [Comedy, Drama]               4  \n",
              "4                          [Comedy]               5  "
            ]
          },
          "execution_count": 13,
          "metadata": {},
          "output_type": "execute_result"
        }
      ],
      "source": [
        "movies.head()"
      ]
    },
    {
      "cell_type": "code",
      "execution_count": 14,
      "metadata": {
        "id": "hD5T2WuYUUuB"
      },
      "outputs": [],
      "source": [
        "movies[\"genres_ids\"] = movies[\"genres\"].apply(\n",
        "    lambda x: [genres_map_dict[g] for g in x])"
      ]
    },
    {
      "cell_type": "code",
      "execution_count": 15,
      "metadata": {},
      "outputs": [],
      "source": [
        "max_genres_length = 4\n",
        "# padding genres\n",
        "movies[\"genres_ids\"] = movies[\"genres_ids\"].apply(\n",
        "    lambda x: (x + [genres_map_dict[\"UNK\"]] *\n",
        "               max_genres_length)[:max_genres_length]\n",
        ")"
      ]
    },
    {
      "cell_type": "code",
      "execution_count": 16,
      "metadata": {},
      "outputs": [],
      "source": [
        "movies_to_genres_dict = movies[['movie_id_index', 'genres_ids']] \\\n",
        "    .set_index(\"movie_id_index\")['genres_ids'].to_dict()\n",
        "utils.save_object(\"./artifacts/movies_to_genres_dict.pkl\",\n",
        "                  movies_to_genres_dict,)"
      ]
    },
    {
      "cell_type": "code",
      "execution_count": 17,
      "metadata": {
        "id": "qbMexz0nUPyz"
      },
      "outputs": [],
      "source": [
        "ratings[\"movie_id_index\"] = ratings[\"movie_id\"].map(movie_id_map_dict)"
      ]
    },
    {
      "cell_type": "code",
      "execution_count": 18,
      "metadata": {
        "id": "0NW-x8FdTy40"
      },
      "outputs": [],
      "source": [
        "df_user_views = ratings[\n",
        "    [\"user_id\", \"movie_id_index\", \"norm_rating\", \"unix_timestamp\"]\n",
        "].merge(movies[[\"movie_id_index\", \"genres_ids\"]], on=[\"movie_id_index\"])"
      ]
    },
    {
      "cell_type": "code",
      "execution_count": 19,
      "metadata": {},
      "outputs": [
        {
          "data": {
            "text/html": [
              "<div>\n",
              "<style scoped>\n",
              "    .dataframe tbody tr th:only-of-type {\n",
              "        vertical-align: middle;\n",
              "    }\n",
              "\n",
              "    .dataframe tbody tr th {\n",
              "        vertical-align: top;\n",
              "    }\n",
              "\n",
              "    .dataframe thead th {\n",
              "        text-align: right;\n",
              "    }\n",
              "</style>\n",
              "<table border=\"1\" class=\"dataframe\">\n",
              "  <thead>\n",
              "    <tr style=\"text-align: right;\">\n",
              "      <th></th>\n",
              "      <th>user_id</th>\n",
              "      <th>movie_id_index</th>\n",
              "      <th>norm_rating</th>\n",
              "      <th>unix_timestamp</th>\n",
              "      <th>genres_ids</th>\n",
              "    </tr>\n",
              "  </thead>\n",
              "  <tbody>\n",
              "    <tr>\n",
              "      <th>0</th>\n",
              "      <td>1</td>\n",
              "      <td>1177</td>\n",
              "      <td>1.00</td>\n",
              "      <td>978300760</td>\n",
              "      <td>[8, 0, 0, 0]</td>\n",
              "    </tr>\n",
              "    <tr>\n",
              "      <th>1</th>\n",
              "      <td>2</td>\n",
              "      <td>1177</td>\n",
              "      <td>1.00</td>\n",
              "      <td>978298413</td>\n",
              "      <td>[8, 0, 0, 0]</td>\n",
              "    </tr>\n",
              "    <tr>\n",
              "      <th>2</th>\n",
              "      <td>12</td>\n",
              "      <td>1177</td>\n",
              "      <td>0.75</td>\n",
              "      <td>978220179</td>\n",
              "      <td>[8, 0, 0, 0]</td>\n",
              "    </tr>\n",
              "    <tr>\n",
              "      <th>3</th>\n",
              "      <td>15</td>\n",
              "      <td>1177</td>\n",
              "      <td>0.75</td>\n",
              "      <td>978199279</td>\n",
              "      <td>[8, 0, 0, 0]</td>\n",
              "    </tr>\n",
              "    <tr>\n",
              "      <th>4</th>\n",
              "      <td>17</td>\n",
              "      <td>1177</td>\n",
              "      <td>1.00</td>\n",
              "      <td>978158471</td>\n",
              "      <td>[8, 0, 0, 0]</td>\n",
              "    </tr>\n",
              "  </tbody>\n",
              "</table>\n",
              "</div>"
            ],
            "text/plain": [
              "   user_id  movie_id_index  norm_rating  unix_timestamp    genres_ids\n",
              "0        1            1177         1.00       978300760  [8, 0, 0, 0]\n",
              "1        2            1177         1.00       978298413  [8, 0, 0, 0]\n",
              "2       12            1177         0.75       978220179  [8, 0, 0, 0]\n",
              "3       15            1177         0.75       978199279  [8, 0, 0, 0]\n",
              "4       17            1177         1.00       978158471  [8, 0, 0, 0]"
            ]
          },
          "execution_count": 19,
          "metadata": {},
          "output_type": "execute_result"
        }
      ],
      "source": [
        "df_user_views.head()"
      ]
    },
    {
      "attachments": {},
      "cell_type": "markdown",
      "metadata": {
        "id": "o2uoGM6uUsKF"
      },
      "source": [
        "### Prepare the Sequence\n"
      ]
    },
    {
      "cell_type": "code",
      "execution_count": 20,
      "metadata": {
        "id": "DvQBp4moVNEf"
      },
      "outputs": [],
      "source": [
        "df_agg = df_user_views.sort_values(by=[\"unix_timestamp\"]).groupby(\"user_id\")"
      ]
    },
    {
      "cell_type": "code",
      "execution_count": 21,
      "metadata": {
        "id": "44_d1f5pVSqX"
      },
      "outputs": [],
      "source": [
        "sequences = pd.DataFrame(\n",
        "    data={\n",
        "        \"user_id\": list(df_agg.groups.keys()),\n",
        "        \"movie_sequence\": list(df_agg.movie_id_index.apply(list)),\n",
        "        \"genres_ids_sequence\": list(df_agg.genres_ids.apply(list)),\n",
        "        \"rating_sequence\": list(df_agg.norm_rating.apply(list)),\n",
        "    }\n",
        ")"
      ]
    },
    {
      "cell_type": "code",
      "execution_count": 22,
      "metadata": {},
      "outputs": [
        {
          "data": {
            "text/html": [
              "<div>\n",
              "<style scoped>\n",
              "    .dataframe tbody tr th:only-of-type {\n",
              "        vertical-align: middle;\n",
              "    }\n",
              "\n",
              "    .dataframe tbody tr th {\n",
              "        vertical-align: top;\n",
              "    }\n",
              "\n",
              "    .dataframe thead th {\n",
              "        text-align: right;\n",
              "    }\n",
              "</style>\n",
              "<table border=\"1\" class=\"dataframe\">\n",
              "  <thead>\n",
              "    <tr style=\"text-align: right;\">\n",
              "      <th></th>\n",
              "      <th>user_id</th>\n",
              "      <th>movie_sequence</th>\n",
              "      <th>genres_ids_sequence</th>\n",
              "      <th>rating_sequence</th>\n",
              "    </tr>\n",
              "  </thead>\n",
              "  <tbody>\n",
              "    <tr>\n",
              "      <th>0</th>\n",
              "      <td>1</td>\n",
              "      <td>[3118, 1010, 1673, 1251, 2272, 1769, 3340, 119...</td>\n",
              "      <td>[[8, 0, 0, 0], [3, 4, 12, 0], [8, 14, 0, 0], [...</td>\n",
              "      <td>[0.75, 1.0, 0.75, 1.0, 0.5, 1.0, 0.75, 0.75, 1...</td>\n",
              "    </tr>\n",
              "    <tr>\n",
              "      <th>1</th>\n",
              "      <td>2</td>\n",
              "      <td>[1181, 1200, 1193, 2649, 1274, 2875, 1208, 117...</td>\n",
              "      <td>[[1, 2, 0, 0], [8, 17, 0, 0], [1, 2, 14, 15], ...</td>\n",
              "      <td>[0.75, 0.5, 0.75, 0.5, 1.0, 0.75, 1.0, 1.0, 1....</td>\n",
              "    </tr>\n",
              "    <tr>\n",
              "      <th>2</th>\n",
              "      <td>3</td>\n",
              "      <td>[590, 2790, 3466, 1900, 1893, 1408, 1247, 3603...</td>\n",
              "      <td>[[8, 16, 0, 0], [5, 8, 0, 0], [5, 0, 0, 0], [5...</td>\n",
              "      <td>[0.5, 0.75, 0.5, 0.75, 0.75, 0.5, 1.0, 1.0, 1....</td>\n",
              "    </tr>\n",
              "    <tr>\n",
              "      <th>3</th>\n",
              "      <td>4</td>\n",
              "      <td>[1193, 1082, 477, 3459, 3400, 1179, 258, 1181,...</td>\n",
              "      <td>[[1, 2, 14, 15], [4, 8, 9, 15], [1, 2, 15, 0],...</td>\n",
              "      <td>[0.5, 0.75, 0.75, 0.0, 1.0, 0.25, 1.0, 1.0, 1....</td>\n",
              "    </tr>\n",
              "    <tr>\n",
              "      <th>4</th>\n",
              "      <td>5</td>\n",
              "      <td>[897, 2649, 908, 353, 1231, 1112, 2790, 2120, ...</td>\n",
              "      <td>[[8, 16, 0, 0], [5, 11, 0, 0], [2, 4, 8, 12], ...</td>\n",
              "      <td>[0.75, 0.0, 0.75, 0.0, 1.0, 0.0, 0.75, 0.0, 0....</td>\n",
              "    </tr>\n",
              "  </tbody>\n",
              "</table>\n",
              "</div>"
            ],
            "text/plain": [
              "   user_id                                     movie_sequence  \\\n",
              "0        1  [3118, 1010, 1673, 1251, 2272, 1769, 3340, 119...   \n",
              "1        2  [1181, 1200, 1193, 2649, 1274, 2875, 1208, 117...   \n",
              "2        3  [590, 2790, 3466, 1900, 1893, 1408, 1247, 3603...   \n",
              "3        4  [1193, 1082, 477, 3459, 3400, 1179, 258, 1181,...   \n",
              "4        5  [897, 2649, 908, 353, 1231, 1112, 2790, 2120, ...   \n",
              "\n",
              "                                 genres_ids_sequence  \\\n",
              "0  [[8, 0, 0, 0], [3, 4, 12, 0], [8, 14, 0, 0], [...   \n",
              "1  [[1, 2, 0, 0], [8, 17, 0, 0], [1, 2, 14, 15], ...   \n",
              "2  [[8, 16, 0, 0], [5, 8, 0, 0], [5, 0, 0, 0], [5...   \n",
              "3  [[1, 2, 14, 15], [4, 8, 9, 15], [1, 2, 15, 0],...   \n",
              "4  [[8, 16, 0, 0], [5, 11, 0, 0], [2, 4, 8, 12], ...   \n",
              "\n",
              "                                     rating_sequence  \n",
              "0  [0.75, 1.0, 0.75, 1.0, 0.5, 1.0, 0.75, 0.75, 1...  \n",
              "1  [0.75, 0.5, 0.75, 0.5, 1.0, 0.75, 1.0, 1.0, 1....  \n",
              "2  [0.5, 0.75, 0.5, 0.75, 0.75, 0.5, 1.0, 1.0, 1....  \n",
              "3  [0.5, 0.75, 0.75, 0.0, 1.0, 0.25, 1.0, 1.0, 1....  \n",
              "4  [0.75, 0.0, 0.75, 0.0, 1.0, 0.0, 0.75, 0.0, 0....  "
            ]
          },
          "execution_count": 22,
          "metadata": {},
          "output_type": "execute_result"
        }
      ],
      "source": [
        "sequences.head()"
      ]
    },
    {
      "cell_type": "code",
      "execution_count": 23,
      "metadata": {},
      "outputs": [],
      "source": [
        "def create_sequences(values, window_size, step_size):\n",
        "    sequences = []\n",
        "    start_index = 0\n",
        "    while True:\n",
        "        end_index = start_index + window_size\n",
        "        seq = values[start_index:end_index]\n",
        "        if len(seq) < window_size:\n",
        "            # seq = values[-window_size:]\n",
        "            # if len(seq) == window_size:\n",
        "            #     sequences.append(seq)\n",
        "            break\n",
        "        sequences.append(seq)\n",
        "        start_index += step_size\n",
        "    return sequences"
      ]
    },
    {
      "cell_type": "code",
      "execution_count": 24,
      "metadata": {},
      "outputs": [],
      "source": [
        "def generate_sequence_data(input_sequences_data, sequence_length=2):\n",
        "    step_size = 1\n",
        "    output_sequences_data = input_sequences_data.copy()\n",
        "    output_sequences_data.movie_sequence = output_sequences_data.movie_sequence.apply(\n",
        "        lambda ids: create_sequences(ids, sequence_length, step_size)\n",
        "    )\n",
        "    output_sequences_data.genres_ids_sequence = (\n",
        "        output_sequences_data.genres_ids_sequence.apply(\n",
        "            lambda ids: create_sequences(ids, sequence_length, step_size)\n",
        "        )\n",
        "    )\n",
        "\n",
        "    output_sequences_data.rating_sequence = output_sequences_data.rating_sequence.apply(\n",
        "        lambda ids: create_sequences(ids, sequence_length, step_size)\n",
        "    )\n",
        "\n",
        "    return output_sequences_data"
      ]
    },
    {
      "cell_type": "code",
      "execution_count": 25,
      "metadata": {},
      "outputs": [],
      "source": [
        "sequence_length = 6\n",
        "sequence_lengths = range(2, sequence_length+1)"
      ]
    },
    {
      "cell_type": "code",
      "execution_count": 26,
      "metadata": {},
      "outputs": [
        {
          "data": {
            "text/html": [
              "<div>\n",
              "<style scoped>\n",
              "    .dataframe tbody tr th:only-of-type {\n",
              "        vertical-align: middle;\n",
              "    }\n",
              "\n",
              "    .dataframe tbody tr th {\n",
              "        vertical-align: top;\n",
              "    }\n",
              "\n",
              "    .dataframe thead th {\n",
              "        text-align: right;\n",
              "    }\n",
              "</style>\n",
              "<table border=\"1\" class=\"dataframe\">\n",
              "  <thead>\n",
              "    <tr style=\"text-align: right;\">\n",
              "      <th></th>\n",
              "      <th>user_id</th>\n",
              "      <th>movie_sequence</th>\n",
              "      <th>genres_ids_sequence</th>\n",
              "      <th>rating_sequence</th>\n",
              "    </tr>\n",
              "  </thead>\n",
              "  <tbody>\n",
              "    <tr>\n",
              "      <th>0</th>\n",
              "      <td>1</td>\n",
              "      <td>[[3118, 1010], [1010, 1673], [1673, 1251], [12...</td>\n",
              "      <td>[[[8, 0, 0, 0], [3, 4, 12, 0]], [[3, 4, 12, 0]...</td>\n",
              "      <td>[[0.75, 1.0], [1.0, 0.75], [0.75, 1.0], [1.0, ...</td>\n",
              "    </tr>\n",
              "    <tr>\n",
              "      <th>1</th>\n",
              "      <td>2</td>\n",
              "      <td>[[1181, 1200], [1200, 1193], [1193, 2649], [26...</td>\n",
              "      <td>[[[1, 2, 0, 0], [8, 17, 0, 0]], [[8, 17, 0, 0]...</td>\n",
              "      <td>[[0.75, 0.5], [0.5, 0.75], [0.75, 0.5], [0.5, ...</td>\n",
              "    </tr>\n",
              "    <tr>\n",
              "      <th>2</th>\n",
              "      <td>3</td>\n",
              "      <td>[[590, 2790], [2790, 3466], [3466, 1900], [190...</td>\n",
              "      <td>[[[8, 16, 0, 0], [5, 8, 0, 0]], [[5, 8, 0, 0],...</td>\n",
              "      <td>[[0.5, 0.75], [0.75, 0.5], [0.5, 0.75], [0.75,...</td>\n",
              "    </tr>\n",
              "    <tr>\n",
              "      <th>3</th>\n",
              "      <td>4</td>\n",
              "      <td>[[1193, 1082], [1082, 477], [477, 3459], [3459...</td>\n",
              "      <td>[[[1, 2, 14, 15], [4, 8, 9, 15]], [[4, 8, 9, 1...</td>\n",
              "      <td>[[0.5, 0.75], [0.75, 0.75], [0.75, 0.0], [0.0,...</td>\n",
              "    </tr>\n",
              "    <tr>\n",
              "      <th>4</th>\n",
              "      <td>5</td>\n",
              "      <td>[[897, 2649], [2649, 908], [908, 353], [353, 1...</td>\n",
              "      <td>[[[8, 16, 0, 0], [5, 11, 0, 0]], [[5, 11, 0, 0...</td>\n",
              "      <td>[[0.75, 0.0], [0.0, 0.75], [0.75, 0.0], [0.0, ...</td>\n",
              "    </tr>\n",
              "  </tbody>\n",
              "</table>\n",
              "</div>"
            ],
            "text/plain": [
              "   user_id                                     movie_sequence  \\\n",
              "0        1  [[3118, 1010], [1010, 1673], [1673, 1251], [12...   \n",
              "1        2  [[1181, 1200], [1200, 1193], [1193, 2649], [26...   \n",
              "2        3  [[590, 2790], [2790, 3466], [3466, 1900], [190...   \n",
              "3        4  [[1193, 1082], [1082, 477], [477, 3459], [3459...   \n",
              "4        5  [[897, 2649], [2649, 908], [908, 353], [353, 1...   \n",
              "\n",
              "                                 genres_ids_sequence  \\\n",
              "0  [[[8, 0, 0, 0], [3, 4, 12, 0]], [[3, 4, 12, 0]...   \n",
              "1  [[[1, 2, 0, 0], [8, 17, 0, 0]], [[8, 17, 0, 0]...   \n",
              "2  [[[8, 16, 0, 0], [5, 8, 0, 0]], [[5, 8, 0, 0],...   \n",
              "3  [[[1, 2, 14, 15], [4, 8, 9, 15]], [[4, 8, 9, 1...   \n",
              "4  [[[8, 16, 0, 0], [5, 11, 0, 0]], [[5, 11, 0, 0...   \n",
              "\n",
              "                                     rating_sequence  \n",
              "0  [[0.75, 1.0], [1.0, 0.75], [0.75, 1.0], [1.0, ...  \n",
              "1  [[0.75, 0.5], [0.5, 0.75], [0.75, 0.5], [0.5, ...  \n",
              "2  [[0.5, 0.75], [0.75, 0.5], [0.5, 0.75], [0.75,...  \n",
              "3  [[0.5, 0.75], [0.75, 0.75], [0.75, 0.0], [0.0,...  \n",
              "4  [[0.75, 0.0], [0.0, 0.75], [0.75, 0.0], [0.0, ...  "
            ]
          },
          "execution_count": 26,
          "metadata": {},
          "output_type": "execute_result"
        }
      ],
      "source": [
        "df_list = [\n",
        "    generate_sequence_data(sequences, sequence_length)\n",
        "    for sequence_length in sequence_lengths\n",
        "]\n",
        "multi_sequence = pd.concat(df_list)\n",
        "multi_sequence.head()"
      ]
    },
    {
      "cell_type": "code",
      "execution_count": 27,
      "metadata": {
        "id": "eREuVC30VU03"
      },
      "outputs": [],
      "source": [
        "multi_sequence_movies = multi_sequence[[\"user_id\", \"movie_sequence\"]].explode(\n",
        "    \"movie_sequence\", ignore_index=True\n",
        ")\n",
        "\n",
        "multi_sequence_rating = multi_sequence[[\"rating_sequence\"]].explode(\n",
        "    \"rating_sequence\", ignore_index=True\n",
        ")\n",
        "\n",
        "multi_sequence_genres = multi_sequence[[\"genres_ids_sequence\"]].explode(\n",
        "    \"genres_ids_sequence\", ignore_index=True\n",
        ")\n",
        "\n",
        "multi_sequence_transformed = pd.concat(\n",
        "    [multi_sequence_movies, multi_sequence_rating, multi_sequence_genres], axis=1\n",
        ")"
      ]
    },
    {
      "cell_type": "code",
      "execution_count": 28,
      "metadata": {},
      "outputs": [
        {
          "data": {
            "text/html": [
              "<div>\n",
              "<style scoped>\n",
              "    .dataframe tbody tr th:only-of-type {\n",
              "        vertical-align: middle;\n",
              "    }\n",
              "\n",
              "    .dataframe tbody tr th {\n",
              "        vertical-align: top;\n",
              "    }\n",
              "\n",
              "    .dataframe thead th {\n",
              "        text-align: right;\n",
              "    }\n",
              "</style>\n",
              "<table border=\"1\" class=\"dataframe\">\n",
              "  <thead>\n",
              "    <tr style=\"text-align: right;\">\n",
              "      <th></th>\n",
              "      <th>user_id</th>\n",
              "      <th>movie_sequence</th>\n",
              "      <th>rating_sequence</th>\n",
              "      <th>genres_ids_sequence</th>\n",
              "    </tr>\n",
              "  </thead>\n",
              "  <tbody>\n",
              "    <tr>\n",
              "      <th>0</th>\n",
              "      <td>1</td>\n",
              "      <td>[3118, 1010]</td>\n",
              "      <td>[0.75, 1.0]</td>\n",
              "      <td>[[8, 0, 0, 0], [3, 4, 12, 0]]</td>\n",
              "    </tr>\n",
              "    <tr>\n",
              "      <th>1</th>\n",
              "      <td>1</td>\n",
              "      <td>[1010, 1673]</td>\n",
              "      <td>[1.0, 0.75]</td>\n",
              "      <td>[[3, 4, 12, 0], [8, 14, 0, 0]]</td>\n",
              "    </tr>\n",
              "    <tr>\n",
              "      <th>2</th>\n",
              "      <td>1</td>\n",
              "      <td>[1673, 1251]</td>\n",
              "      <td>[0.75, 1.0]</td>\n",
              "      <td>[[8, 14, 0, 0], [5, 15, 0, 0]]</td>\n",
              "    </tr>\n",
              "    <tr>\n",
              "      <th>3</th>\n",
              "      <td>1</td>\n",
              "      <td>[1251, 2272]</td>\n",
              "      <td>[1.0, 0.5]</td>\n",
              "      <td>[[5, 15, 0, 0], [14, 0, 0, 0]]</td>\n",
              "    </tr>\n",
              "    <tr>\n",
              "      <th>4</th>\n",
              "      <td>1</td>\n",
              "      <td>[2272, 1769]</td>\n",
              "      <td>[0.5, 1.0]</td>\n",
              "      <td>[[14, 0, 0, 0], [8, 0, 0, 0]]</td>\n",
              "    </tr>\n",
              "  </tbody>\n",
              "</table>\n",
              "</div>"
            ],
            "text/plain": [
              "   user_id movie_sequence rating_sequence             genres_ids_sequence\n",
              "0        1   [3118, 1010]     [0.75, 1.0]   [[8, 0, 0, 0], [3, 4, 12, 0]]\n",
              "1        1   [1010, 1673]     [1.0, 0.75]  [[3, 4, 12, 0], [8, 14, 0, 0]]\n",
              "2        1   [1673, 1251]     [0.75, 1.0]  [[8, 14, 0, 0], [5, 15, 0, 0]]\n",
              "3        1   [1251, 2272]      [1.0, 0.5]  [[5, 15, 0, 0], [14, 0, 0, 0]]\n",
              "4        1   [2272, 1769]      [0.5, 1.0]   [[14, 0, 0, 0], [8, 0, 0, 0]]"
            ]
          },
          "execution_count": 28,
          "metadata": {},
          "output_type": "execute_result"
        }
      ],
      "source": [
        "multi_sequence_transformed.head()"
      ]
    },
    {
      "cell_type": "code",
      "execution_count": 29,
      "metadata": {
        "colab": {
          "base_uri": "https://localhost:8080/",
          "height": 206
        },
        "id": "K-yTVNctVWbn",
        "outputId": "d51b685b-cc56-4caf-f201-729232ee2c2f"
      },
      "outputs": [
        {
          "data": {
            "text/html": [
              "<div>\n",
              "<style scoped>\n",
              "    .dataframe tbody tr th:only-of-type {\n",
              "        vertical-align: middle;\n",
              "    }\n",
              "\n",
              "    .dataframe tbody tr th {\n",
              "        vertical-align: top;\n",
              "    }\n",
              "\n",
              "    .dataframe thead th {\n",
              "        text-align: right;\n",
              "    }\n",
              "</style>\n",
              "<table border=\"1\" class=\"dataframe\">\n",
              "  <thead>\n",
              "    <tr style=\"text-align: right;\">\n",
              "      <th></th>\n",
              "      <th>user_id</th>\n",
              "      <th>movie_sequence</th>\n",
              "      <th>rating_sequence</th>\n",
              "      <th>genres_ids_sequence</th>\n",
              "    </tr>\n",
              "  </thead>\n",
              "  <tbody>\n",
              "    <tr>\n",
              "      <th>4910440</th>\n",
              "      <td>6040</td>\n",
              "      <td>[2657, 1628, 454, 3603, 230, 2849]</td>\n",
              "      <td>[0.75, 0.75, 0.75, 0.75, 1.0, 0.75]</td>\n",
              "      <td>[[8, 0, 0, 0], [8, 0, 0, 0], [1, 16, 0, 0], [5...</td>\n",
              "    </tr>\n",
              "    <tr>\n",
              "      <th>4910441</th>\n",
              "      <td>6040</td>\n",
              "      <td>[1628, 454, 3603, 230, 2849, 1853]</td>\n",
              "      <td>[0.75, 0.75, 0.75, 1.0, 0.75, 0.75]</td>\n",
              "      <td>[[8, 0, 0, 0], [1, 16, 0, 0], [5, 18, 0, 0], [...</td>\n",
              "    </tr>\n",
              "    <tr>\n",
              "      <th>4910442</th>\n",
              "      <td>6040</td>\n",
              "      <td>[454, 3603, 230, 2849, 1853, 1727]</td>\n",
              "      <td>[0.75, 0.75, 1.0, 0.75, 0.75, 0.5]</td>\n",
              "      <td>[[1, 16, 0, 0], [5, 18, 0, 0], [5, 8, 0, 0], [...</td>\n",
              "    </tr>\n",
              "    <tr>\n",
              "      <th>4910443</th>\n",
              "      <td>6040</td>\n",
              "      <td>[3603, 230, 2849, 1853, 1727, 160]</td>\n",
              "      <td>[0.75, 1.0, 0.75, 0.75, 0.5, 0.5]</td>\n",
              "      <td>[[5, 18, 0, 0], [5, 8, 0, 0], [6, 16, 0, 0], [...</td>\n",
              "    </tr>\n",
              "    <tr>\n",
              "      <th>4910444</th>\n",
              "      <td>6040</td>\n",
              "      <td>[230, 2849, 1853, 1727, 160, 1204]</td>\n",
              "      <td>[1.0, 0.75, 0.75, 0.5, 0.5, 0.75]</td>\n",
              "      <td>[[5, 8, 0, 0], [6, 16, 0, 0], [15, 16, 0, 0], ...</td>\n",
              "    </tr>\n",
              "  </tbody>\n",
              "</table>\n",
              "</div>"
            ],
            "text/plain": [
              "         user_id                      movie_sequence  \\\n",
              "4910440     6040  [2657, 1628, 454, 3603, 230, 2849]   \n",
              "4910441     6040  [1628, 454, 3603, 230, 2849, 1853]   \n",
              "4910442     6040  [454, 3603, 230, 2849, 1853, 1727]   \n",
              "4910443     6040  [3603, 230, 2849, 1853, 1727, 160]   \n",
              "4910444     6040  [230, 2849, 1853, 1727, 160, 1204]   \n",
              "\n",
              "                             rating_sequence  \\\n",
              "4910440  [0.75, 0.75, 0.75, 0.75, 1.0, 0.75]   \n",
              "4910441  [0.75, 0.75, 0.75, 1.0, 0.75, 0.75]   \n",
              "4910442   [0.75, 0.75, 1.0, 0.75, 0.75, 0.5]   \n",
              "4910443    [0.75, 1.0, 0.75, 0.75, 0.5, 0.5]   \n",
              "4910444    [1.0, 0.75, 0.75, 0.5, 0.5, 0.75]   \n",
              "\n",
              "                                       genres_ids_sequence  \n",
              "4910440  [[8, 0, 0, 0], [8, 0, 0, 0], [1, 16, 0, 0], [5...  \n",
              "4910441  [[8, 0, 0, 0], [1, 16, 0, 0], [5, 18, 0, 0], [...  \n",
              "4910442  [[1, 16, 0, 0], [5, 18, 0, 0], [5, 8, 0, 0], [...  \n",
              "4910443  [[5, 18, 0, 0], [5, 8, 0, 0], [6, 16, 0, 0], [...  \n",
              "4910444  [[5, 8, 0, 0], [6, 16, 0, 0], [15, 16, 0, 0], ...  "
            ]
          },
          "execution_count": 29,
          "metadata": {},
          "output_type": "execute_result"
        }
      ],
      "source": [
        "multi_sequence_transformed.tail()"
      ]
    },
    {
      "cell_type": "code",
      "execution_count": 30,
      "metadata": {},
      "outputs": [],
      "source": [
        "multi_sequence_transformed = multi_sequence_transformed[\n",
        "    multi_sequence_transformed[\"movie_sequence\"].notnull()\n",
        "]"
      ]
    },
    {
      "cell_type": "code",
      "execution_count": 31,
      "metadata": {
        "id": "roXPTpv8VY-9"
      },
      "outputs": [],
      "source": [
        "user_columns = [\"user_id\", \"sex\", \"age_group_index\"]"
      ]
    },
    {
      "cell_type": "code",
      "execution_count": 32,
      "metadata": {
        "id": "kotYicQYVaGe"
      },
      "outputs": [],
      "source": [
        "multi_sequence_transformed = multi_sequence_transformed.merge(\n",
        "    users[user_columns], on=\"user_id\"\n",
        ")"
      ]
    },
    {
      "cell_type": "code",
      "execution_count": 33,
      "metadata": {
        "id": "GUE9Aj-JVbB_"
      },
      "outputs": [],
      "source": [
        "multi_sequence_transformed[\"sex\"] = multi_sequence_transformed[\"sex\"].astype(\n",
        "    float)"
      ]
    },
    {
      "cell_type": "code",
      "execution_count": 34,
      "metadata": {},
      "outputs": [
        {
          "data": {
            "text/html": [
              "<div>\n",
              "<style scoped>\n",
              "    .dataframe tbody tr th:only-of-type {\n",
              "        vertical-align: middle;\n",
              "    }\n",
              "\n",
              "    .dataframe tbody tr th {\n",
              "        vertical-align: top;\n",
              "    }\n",
              "\n",
              "    .dataframe thead th {\n",
              "        text-align: right;\n",
              "    }\n",
              "</style>\n",
              "<table border=\"1\" class=\"dataframe\">\n",
              "  <thead>\n",
              "    <tr style=\"text-align: right;\">\n",
              "      <th></th>\n",
              "      <th>user_id</th>\n",
              "      <th>movie_sequence</th>\n",
              "      <th>rating_sequence</th>\n",
              "      <th>genres_ids_sequence</th>\n",
              "      <th>sex</th>\n",
              "      <th>age_group_index</th>\n",
              "    </tr>\n",
              "  </thead>\n",
              "  <tbody>\n",
              "    <tr>\n",
              "      <th>0</th>\n",
              "      <td>1</td>\n",
              "      <td>[3118, 1010]</td>\n",
              "      <td>[0.75, 1.0]</td>\n",
              "      <td>[[8, 0, 0, 0], [3, 4, 12, 0]]</td>\n",
              "      <td>1.0</td>\n",
              "      <td>1</td>\n",
              "    </tr>\n",
              "    <tr>\n",
              "      <th>1</th>\n",
              "      <td>1</td>\n",
              "      <td>[1010, 1673]</td>\n",
              "      <td>[1.0, 0.75]</td>\n",
              "      <td>[[3, 4, 12, 0], [8, 14, 0, 0]]</td>\n",
              "      <td>1.0</td>\n",
              "      <td>1</td>\n",
              "    </tr>\n",
              "    <tr>\n",
              "      <th>2</th>\n",
              "      <td>1</td>\n",
              "      <td>[1673, 1251]</td>\n",
              "      <td>[0.75, 1.0]</td>\n",
              "      <td>[[8, 14, 0, 0], [5, 15, 0, 0]]</td>\n",
              "      <td>1.0</td>\n",
              "      <td>1</td>\n",
              "    </tr>\n",
              "    <tr>\n",
              "      <th>3</th>\n",
              "      <td>1</td>\n",
              "      <td>[1251, 2272]</td>\n",
              "      <td>[1.0, 0.5]</td>\n",
              "      <td>[[5, 15, 0, 0], [14, 0, 0, 0]]</td>\n",
              "      <td>1.0</td>\n",
              "      <td>1</td>\n",
              "    </tr>\n",
              "    <tr>\n",
              "      <th>4</th>\n",
              "      <td>1</td>\n",
              "      <td>[2272, 1769]</td>\n",
              "      <td>[0.5, 1.0]</td>\n",
              "      <td>[[14, 0, 0, 0], [8, 0, 0, 0]]</td>\n",
              "      <td>1.0</td>\n",
              "      <td>1</td>\n",
              "    </tr>\n",
              "  </tbody>\n",
              "</table>\n",
              "</div>"
            ],
            "text/plain": [
              "   user_id movie_sequence rating_sequence             genres_ids_sequence  \\\n",
              "0        1   [3118, 1010]     [0.75, 1.0]   [[8, 0, 0, 0], [3, 4, 12, 0]]   \n",
              "1        1   [1010, 1673]     [1.0, 0.75]  [[3, 4, 12, 0], [8, 14, 0, 0]]   \n",
              "2        1   [1673, 1251]     [0.75, 1.0]  [[8, 14, 0, 0], [5, 15, 0, 0]]   \n",
              "3        1   [1251, 2272]      [1.0, 0.5]  [[5, 15, 0, 0], [14, 0, 0, 0]]   \n",
              "4        1   [2272, 1769]      [0.5, 1.0]   [[14, 0, 0, 0], [8, 0, 0, 0]]   \n",
              "\n",
              "   sex  age_group_index  \n",
              "0  1.0                1  \n",
              "1  1.0                1  \n",
              "2  1.0                1  \n",
              "3  1.0                1  \n",
              "4  1.0                1  "
            ]
          },
          "execution_count": 34,
          "metadata": {},
          "output_type": "execute_result"
        }
      ],
      "source": [
        "multi_sequence_transformed.head()"
      ]
    },
    {
      "cell_type": "markdown",
      "metadata": {},
      "source": [
        "### Assign Rating\n"
      ]
    },
    {
      "cell_type": "code",
      "execution_count": 35,
      "metadata": {
        "id": "-f6yhP5ZVcPk"
      },
      "outputs": [],
      "source": [
        "multi_sequence_transformed[\"target_movie\"] = multi_sequence_transformed[\n",
        "    \"movie_sequence\"\n",
        "].apply(lambda x: x[-1])\n",
        "multi_sequence_transformed[\"target_rating\"] = multi_sequence_transformed[\n",
        "    \"rating_sequence\"\n",
        "].apply(lambda x: x[-1])"
      ]
    },
    {
      "cell_type": "code",
      "execution_count": 36,
      "metadata": {
        "colab": {
          "base_uri": "https://localhost:8080/",
          "height": 206
        },
        "id": "_D1bExqMVkRd",
        "outputId": "c23bbf8a-0b53-47bc-fc80-82cb54374ba1"
      },
      "outputs": [],
      "source": [
        "# Assume that we don't have rating input from users in inference\n",
        "multi_sequence_transformed = multi_sequence_transformed.drop(\n",
        "    \"rating_sequence\", axis=1)"
      ]
    },
    {
      "cell_type": "code",
      "execution_count": 37,
      "metadata": {},
      "outputs": [
        {
          "data": {
            "text/html": [
              "<div>\n",
              "<style scoped>\n",
              "    .dataframe tbody tr th:only-of-type {\n",
              "        vertical-align: middle;\n",
              "    }\n",
              "\n",
              "    .dataframe tbody tr th {\n",
              "        vertical-align: top;\n",
              "    }\n",
              "\n",
              "    .dataframe thead th {\n",
              "        text-align: right;\n",
              "    }\n",
              "</style>\n",
              "<table border=\"1\" class=\"dataframe\">\n",
              "  <thead>\n",
              "    <tr style=\"text-align: right;\">\n",
              "      <th></th>\n",
              "      <th>user_id</th>\n",
              "      <th>movie_sequence</th>\n",
              "      <th>genres_ids_sequence</th>\n",
              "      <th>sex</th>\n",
              "      <th>age_group_index</th>\n",
              "      <th>target_movie</th>\n",
              "      <th>target_rating</th>\n",
              "    </tr>\n",
              "  </thead>\n",
              "  <tbody>\n",
              "    <tr>\n",
              "      <th>0</th>\n",
              "      <td>1</td>\n",
              "      <td>[3118, 1010]</td>\n",
              "      <td>[[8, 0, 0, 0], [3, 4, 12, 0]]</td>\n",
              "      <td>1.0</td>\n",
              "      <td>1</td>\n",
              "      <td>1010</td>\n",
              "      <td>1.00</td>\n",
              "    </tr>\n",
              "    <tr>\n",
              "      <th>1</th>\n",
              "      <td>1</td>\n",
              "      <td>[1010, 1673]</td>\n",
              "      <td>[[3, 4, 12, 0], [8, 14, 0, 0]]</td>\n",
              "      <td>1.0</td>\n",
              "      <td>1</td>\n",
              "      <td>1673</td>\n",
              "      <td>0.75</td>\n",
              "    </tr>\n",
              "    <tr>\n",
              "      <th>2</th>\n",
              "      <td>1</td>\n",
              "      <td>[1673, 1251]</td>\n",
              "      <td>[[8, 14, 0, 0], [5, 15, 0, 0]]</td>\n",
              "      <td>1.0</td>\n",
              "      <td>1</td>\n",
              "      <td>1251</td>\n",
              "      <td>1.00</td>\n",
              "    </tr>\n",
              "    <tr>\n",
              "      <th>3</th>\n",
              "      <td>1</td>\n",
              "      <td>[1251, 2272]</td>\n",
              "      <td>[[5, 15, 0, 0], [14, 0, 0, 0]]</td>\n",
              "      <td>1.0</td>\n",
              "      <td>1</td>\n",
              "      <td>2272</td>\n",
              "      <td>0.50</td>\n",
              "    </tr>\n",
              "    <tr>\n",
              "      <th>4</th>\n",
              "      <td>1</td>\n",
              "      <td>[2272, 1769]</td>\n",
              "      <td>[[14, 0, 0, 0], [8, 0, 0, 0]]</td>\n",
              "      <td>1.0</td>\n",
              "      <td>1</td>\n",
              "      <td>1769</td>\n",
              "      <td>1.00</td>\n",
              "    </tr>\n",
              "  </tbody>\n",
              "</table>\n",
              "</div>"
            ],
            "text/plain": [
              "   user_id movie_sequence             genres_ids_sequence  sex  \\\n",
              "0        1   [3118, 1010]   [[8, 0, 0, 0], [3, 4, 12, 0]]  1.0   \n",
              "1        1   [1010, 1673]  [[3, 4, 12, 0], [8, 14, 0, 0]]  1.0   \n",
              "2        1   [1673, 1251]  [[8, 14, 0, 0], [5, 15, 0, 0]]  1.0   \n",
              "3        1   [1251, 2272]  [[5, 15, 0, 0], [14, 0, 0, 0]]  1.0   \n",
              "4        1   [2272, 1769]   [[14, 0, 0, 0], [8, 0, 0, 0]]  1.0   \n",
              "\n",
              "   age_group_index  target_movie  target_rating  \n",
              "0                1          1010           1.00  \n",
              "1                1          1673           0.75  \n",
              "2                1          1251           1.00  \n",
              "3                1          2272           0.50  \n",
              "4                1          1769           1.00  "
            ]
          },
          "execution_count": 37,
          "metadata": {},
          "output_type": "execute_result"
        }
      ],
      "source": [
        "multi_sequence_transformed.head()"
      ]
    },
    {
      "cell_type": "markdown",
      "metadata": {},
      "source": [
        "### Padding Sequence\n"
      ]
    },
    {
      "cell_type": "code",
      "execution_count": 38,
      "metadata": {},
      "outputs": [],
      "source": [
        "# padding sequence\n",
        "max_length = max([len(seq)\n",
        "                 for seq in multi_sequence_transformed[\"movie_sequence\"]])"
      ]
    },
    {
      "cell_type": "code",
      "execution_count": 39,
      "metadata": {},
      "outputs": [],
      "source": [
        "multi_sequence_transformed[\"movie_sequence\"] = multi_sequence_transformed[\n",
        "    \"movie_sequence\"\n",
        "].apply(lambda x: x + max_length * [movie_id_map_dict[\"UNK\"]])\n",
        "multi_sequence_transformed[\"movie_sequence\"] = multi_sequence_transformed[\n",
        "    \"movie_sequence\"\n",
        "].apply(lambda x: x[:max_length])"
      ]
    },
    {
      "cell_type": "code",
      "execution_count": 40,
      "metadata": {},
      "outputs": [],
      "source": [
        "def padding_genres_id(genres_ids_sequence):\n",
        "    padding_list = [genres_map_dict[\"UNK\"]] * max_genres_length\n",
        "    for _ in range(max_length):\n",
        "        genres_ids_sequence.append(padding_list)\n",
        "    return genres_ids_sequence[:max_length]"
      ]
    },
    {
      "cell_type": "code",
      "execution_count": 41,
      "metadata": {},
      "outputs": [],
      "source": [
        "multi_sequence_transformed[\"genres_ids_sequence\"] = multi_sequence_transformed[\n",
        "    \"genres_ids_sequence\"\n",
        "].apply(lambda x: padding_genres_id(x))"
      ]
    },
    {
      "cell_type": "code",
      "execution_count": 42,
      "metadata": {},
      "outputs": [
        {
          "data": {
            "text/html": [
              "<div>\n",
              "<style scoped>\n",
              "    .dataframe tbody tr th:only-of-type {\n",
              "        vertical-align: middle;\n",
              "    }\n",
              "\n",
              "    .dataframe tbody tr th {\n",
              "        vertical-align: top;\n",
              "    }\n",
              "\n",
              "    .dataframe thead th {\n",
              "        text-align: right;\n",
              "    }\n",
              "</style>\n",
              "<table border=\"1\" class=\"dataframe\">\n",
              "  <thead>\n",
              "    <tr style=\"text-align: right;\">\n",
              "      <th></th>\n",
              "      <th>user_id</th>\n",
              "      <th>movie_sequence</th>\n",
              "      <th>genres_ids_sequence</th>\n",
              "      <th>sex</th>\n",
              "      <th>age_group_index</th>\n",
              "      <th>target_movie</th>\n",
              "      <th>target_rating</th>\n",
              "    </tr>\n",
              "  </thead>\n",
              "  <tbody>\n",
              "    <tr>\n",
              "      <th>0</th>\n",
              "      <td>1</td>\n",
              "      <td>[3118, 1010, 0, 0, 0, 0]</td>\n",
              "      <td>[[8, 0, 0, 0], [3, 4, 12, 0], [0, 0, 0, 0], [0...</td>\n",
              "      <td>1.0</td>\n",
              "      <td>1</td>\n",
              "      <td>1010</td>\n",
              "      <td>1.00</td>\n",
              "    </tr>\n",
              "    <tr>\n",
              "      <th>1</th>\n",
              "      <td>1</td>\n",
              "      <td>[1010, 1673, 0, 0, 0, 0]</td>\n",
              "      <td>[[3, 4, 12, 0], [8, 14, 0, 0], [0, 0, 0, 0], [...</td>\n",
              "      <td>1.0</td>\n",
              "      <td>1</td>\n",
              "      <td>1673</td>\n",
              "      <td>0.75</td>\n",
              "    </tr>\n",
              "    <tr>\n",
              "      <th>2</th>\n",
              "      <td>1</td>\n",
              "      <td>[1673, 1251, 0, 0, 0, 0]</td>\n",
              "      <td>[[8, 14, 0, 0], [5, 15, 0, 0], [0, 0, 0, 0], [...</td>\n",
              "      <td>1.0</td>\n",
              "      <td>1</td>\n",
              "      <td>1251</td>\n",
              "      <td>1.00</td>\n",
              "    </tr>\n",
              "    <tr>\n",
              "      <th>3</th>\n",
              "      <td>1</td>\n",
              "      <td>[1251, 2272, 0, 0, 0, 0]</td>\n",
              "      <td>[[5, 15, 0, 0], [14, 0, 0, 0], [0, 0, 0, 0], [...</td>\n",
              "      <td>1.0</td>\n",
              "      <td>1</td>\n",
              "      <td>2272</td>\n",
              "      <td>0.50</td>\n",
              "    </tr>\n",
              "    <tr>\n",
              "      <th>4</th>\n",
              "      <td>1</td>\n",
              "      <td>[2272, 1769, 0, 0, 0, 0]</td>\n",
              "      <td>[[14, 0, 0, 0], [8, 0, 0, 0], [0, 0, 0, 0], [0...</td>\n",
              "      <td>1.0</td>\n",
              "      <td>1</td>\n",
              "      <td>1769</td>\n",
              "      <td>1.00</td>\n",
              "    </tr>\n",
              "  </tbody>\n",
              "</table>\n",
              "</div>"
            ],
            "text/plain": [
              "   user_id            movie_sequence  \\\n",
              "0        1  [3118, 1010, 0, 0, 0, 0]   \n",
              "1        1  [1010, 1673, 0, 0, 0, 0]   \n",
              "2        1  [1673, 1251, 0, 0, 0, 0]   \n",
              "3        1  [1251, 2272, 0, 0, 0, 0]   \n",
              "4        1  [2272, 1769, 0, 0, 0, 0]   \n",
              "\n",
              "                                 genres_ids_sequence  sex  age_group_index  \\\n",
              "0  [[8, 0, 0, 0], [3, 4, 12, 0], [0, 0, 0, 0], [0...  1.0                1   \n",
              "1  [[3, 4, 12, 0], [8, 14, 0, 0], [0, 0, 0, 0], [...  1.0                1   \n",
              "2  [[8, 14, 0, 0], [5, 15, 0, 0], [0, 0, 0, 0], [...  1.0                1   \n",
              "3  [[5, 15, 0, 0], [14, 0, 0, 0], [0, 0, 0, 0], [...  1.0                1   \n",
              "4  [[14, 0, 0, 0], [8, 0, 0, 0], [0, 0, 0, 0], [0...  1.0                1   \n",
              "\n",
              "   target_movie  target_rating  \n",
              "0          1010           1.00  \n",
              "1          1673           0.75  \n",
              "2          1251           1.00  \n",
              "3          2272           0.50  \n",
              "4          1769           1.00  "
            ]
          },
          "execution_count": 42,
          "metadata": {},
          "output_type": "execute_result"
        }
      ],
      "source": [
        "multi_sequence_transformed.head()"
      ]
    },
    {
      "cell_type": "code",
      "execution_count": 43,
      "metadata": {
        "id": "bQEmshcNVlks"
      },
      "outputs": [],
      "source": [
        "random_selection = np.random.rand(\n",
        "    len(multi_sequence_transformed.index)) <= 0.85\n",
        "train_data = multi_sequence_transformed[random_selection]\n",
        "test_data = multi_sequence_transformed[~random_selection]"
      ]
    },
    {
      "cell_type": "markdown",
      "metadata": {},
      "source": [
        "## (3) Save\n"
      ]
    },
    {
      "cell_type": "code",
      "execution_count": 44,
      "metadata": {},
      "outputs": [],
      "source": [
        "# Assume that users are anonymous in inference\n",
        "train_data = train_data.drop(\"user_id\", axis=1)\n",
        "test_data = test_data.drop(\"user_id\", axis=1)"
      ]
    },
    {
      "cell_type": "code",
      "execution_count": 45,
      "metadata": {},
      "outputs": [],
      "source": [
        "train_data.to_parquet(\"artifacts/train_data.parquet\")\n",
        "test_data.to_parquet(\"artifacts/test_data.parquet\")"
      ]
    },
    {
      "cell_type": "code",
      "execution_count": null,
      "metadata": {},
      "outputs": [],
      "source": []
    }
  ],
  "metadata": {
    "accelerator": "GPU",
    "colab": {
      "gpuType": "T4",
      "provenance": [],
      "toc_visible": true
    },
    "kernelspec": {
      "display_name": "Python 3",
      "name": "python3"
    },
    "language_info": {
      "codemirror_mode": {
        "name": "ipython",
        "version": 3
      },
      "file_extension": ".py",
      "mimetype": "text/x-python",
      "name": "python",
      "nbconvert_exporter": "python",
      "pygments_lexer": "ipython3",
      "version": "3.11.3"
    }
  },
  "nbformat": 4,
  "nbformat_minor": 0
}
