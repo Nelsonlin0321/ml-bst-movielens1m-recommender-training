{
 "cells": [
  {
   "cell_type": "code",
   "execution_count": 1,
   "metadata": {},
   "outputs": [],
   "source": [
    "%load_ext autoreload\n",
    "%autoreload 2"
   ]
  },
  {
   "cell_type": "markdown",
   "metadata": {},
   "source": [
    "## (1) Notebook Setting\n"
   ]
  },
  {
   "cell_type": "code",
   "execution_count": 2,
   "metadata": {},
   "outputs": [],
   "source": [
    "import os\n",
    "import dotenv\n",
    "import torch\n",
    "from torch import nn\n",
    "import pandas as pd\n",
    "import numpy as np\n",
    "import random\n",
    "import mlflow\n",
    "from uuid import uuid4\n",
    "from tqdm import tqdm\n",
    "from sklearn import metrics\n",
    "from torch.utils.data import DataLoader"
   ]
  },
  {
   "cell_type": "code",
   "execution_count": 3,
   "metadata": {},
   "outputs": [],
   "source": [
    "os.chdir(\"./../\")"
   ]
  },
  {
   "cell_type": "code",
   "execution_count": 4,
   "metadata": {},
   "outputs": [
    {
     "data": {
      "text/plain": [
       "True"
      ]
     },
     "execution_count": 4,
     "metadata": {},
     "output_type": "execute_result"
    }
   ],
   "source": [
    "dotenv.load_dotenv(\"./.env\")"
   ]
  },
  {
   "cell_type": "code",
   "execution_count": 5,
   "metadata": {},
   "outputs": [],
   "source": [
    "from src import utils\n",
    "from src.dataset import RatingDataset\n",
    "from src.model import BSTRecommenderModel"
   ]
  },
  {
   "cell_type": "code",
   "execution_count": 6,
   "metadata": {},
   "outputs": [],
   "source": [
    "# Set random seed for reproducibility\n",
    "torch.manual_seed(0)\n",
    "np.random.seed(0)\n",
    "random.seed(0)\n",
    "if torch.cuda.is_available():\n",
    "    torch.backends.cudnn.deterministic = True\n",
    "    torch.backends.cudnn.benchmark = False"
   ]
  },
  {
   "cell_type": "code",
   "execution_count": 7,
   "metadata": {},
   "outputs": [],
   "source": [
    "TRACKING_URL = \"http://175.41.182.223:5050/\"\n",
    "EXPERIMENT_NAME = \"bst-movielens1m-recommender-training\""
   ]
  },
  {
   "cell_type": "markdown",
   "metadata": {},
   "source": [
    "## (2) Load Prepared Data\n"
   ]
  },
  {
   "cell_type": "code",
   "execution_count": 8,
   "metadata": {},
   "outputs": [],
   "source": [
    "train_data = pd.read_parquet(\"artifacts/train_data.parquet\")\n",
    "test_data = pd.read_parquet(\"artifacts/test_data.parquet\")"
   ]
  },
  {
   "cell_type": "code",
   "execution_count": 9,
   "metadata": {},
   "outputs": [
    {
     "data": {
      "text/html": [
       "<div>\n",
       "<style scoped>\n",
       "    .dataframe tbody tr th:only-of-type {\n",
       "        vertical-align: middle;\n",
       "    }\n",
       "\n",
       "    .dataframe tbody tr th {\n",
       "        vertical-align: top;\n",
       "    }\n",
       "\n",
       "    .dataframe thead th {\n",
       "        text-align: right;\n",
       "    }\n",
       "</style>\n",
       "<table border=\"1\" class=\"dataframe\">\n",
       "  <thead>\n",
       "    <tr style=\"text-align: right;\">\n",
       "      <th></th>\n",
       "      <th>movie_sequence</th>\n",
       "      <th>genres_ids_sequence</th>\n",
       "      <th>sex</th>\n",
       "      <th>age_group_index</th>\n",
       "      <th>target_movie</th>\n",
       "      <th>target_rating</th>\n",
       "    </tr>\n",
       "  </thead>\n",
       "  <tbody>\n",
       "    <tr>\n",
       "      <th>0</th>\n",
       "      <td>[3118, 1010, 0, 0, 0, 0]</td>\n",
       "      <td>[[8, 0, 0, 0], [3, 4, 12, 0], [0, 0, 0, 0], [0...</td>\n",
       "      <td>1.0</td>\n",
       "      <td>1</td>\n",
       "      <td>1010</td>\n",
       "      <td>1.00</td>\n",
       "    </tr>\n",
       "    <tr>\n",
       "      <th>1</th>\n",
       "      <td>[1010, 1673, 0, 0, 0, 0]</td>\n",
       "      <td>[[3, 4, 12, 0], [8, 14, 0, 0], [0, 0, 0, 0], [...</td>\n",
       "      <td>1.0</td>\n",
       "      <td>1</td>\n",
       "      <td>1673</td>\n",
       "      <td>0.75</td>\n",
       "    </tr>\n",
       "    <tr>\n",
       "      <th>2</th>\n",
       "      <td>[1673, 1251, 0, 0, 0, 0]</td>\n",
       "      <td>[[8, 14, 0, 0], [5, 15, 0, 0], [0, 0, 0, 0], [...</td>\n",
       "      <td>1.0</td>\n",
       "      <td>1</td>\n",
       "      <td>1251</td>\n",
       "      <td>1.00</td>\n",
       "    </tr>\n",
       "    <tr>\n",
       "      <th>3</th>\n",
       "      <td>[1251, 2272, 0, 0, 0, 0]</td>\n",
       "      <td>[[5, 15, 0, 0], [14, 0, 0, 0], [0, 0, 0, 0], [...</td>\n",
       "      <td>1.0</td>\n",
       "      <td>1</td>\n",
       "      <td>2272</td>\n",
       "      <td>0.50</td>\n",
       "    </tr>\n",
       "    <tr>\n",
       "      <th>4</th>\n",
       "      <td>[2272, 1769, 0, 0, 0, 0]</td>\n",
       "      <td>[[14, 0, 0, 0], [8, 0, 0, 0], [0, 0, 0, 0], [0...</td>\n",
       "      <td>1.0</td>\n",
       "      <td>1</td>\n",
       "      <td>1769</td>\n",
       "      <td>1.00</td>\n",
       "    </tr>\n",
       "  </tbody>\n",
       "</table>\n",
       "</div>"
      ],
      "text/plain": [
       "             movie_sequence  \\\n",
       "0  [3118, 1010, 0, 0, 0, 0]   \n",
       "1  [1010, 1673, 0, 0, 0, 0]   \n",
       "2  [1673, 1251, 0, 0, 0, 0]   \n",
       "3  [1251, 2272, 0, 0, 0, 0]   \n",
       "4  [2272, 1769, 0, 0, 0, 0]   \n",
       "\n",
       "                                 genres_ids_sequence  sex  age_group_index  \\\n",
       "0  [[8, 0, 0, 0], [3, 4, 12, 0], [0, 0, 0, 0], [0...  1.0                1   \n",
       "1  [[3, 4, 12, 0], [8, 14, 0, 0], [0, 0, 0, 0], [...  1.0                1   \n",
       "2  [[8, 14, 0, 0], [5, 15, 0, 0], [0, 0, 0, 0], [...  1.0                1   \n",
       "3  [[5, 15, 0, 0], [14, 0, 0, 0], [0, 0, 0, 0], [...  1.0                1   \n",
       "4  [[14, 0, 0, 0], [8, 0, 0, 0], [0, 0, 0, 0], [0...  1.0                1   \n",
       "\n",
       "   target_movie  target_rating  \n",
       "0          1010           1.00  \n",
       "1          1673           0.75  \n",
       "2          1251           1.00  \n",
       "3          2272           0.50  \n",
       "4          1769           1.00  "
      ]
     },
     "execution_count": 9,
     "metadata": {},
     "output_type": "execute_result"
    }
   ],
   "source": [
    "train_data.head()"
   ]
  },
  {
   "cell_type": "markdown",
   "metadata": {},
   "source": [
    "## (3) Model Config\n"
   ]
  },
  {
   "cell_type": "code",
   "execution_count": 10,
   "metadata": {},
   "outputs": [
    {
     "name": "stdout",
     "output_type": "stream",
     "text": [
      "sequence_length:6\n"
     ]
    }
   ],
   "source": [
    "sequence_length = len(train_data.iloc[0][\"movie_sequence\"])\n",
    "print(f\"sequence_length:{sequence_length}\")"
   ]
  },
  {
   "cell_type": "code",
   "execution_count": 11,
   "metadata": {},
   "outputs": [],
   "source": [
    "age_group_id_map_dict_path = \"./artifacts/age_group_id_map_dict.pkl\"\n",
    "age_group_id_map_dict = utils.open_object(age_group_id_map_dict_path)\n",
    "\n",
    "movie_id_map_dict_path = \"./artifacts/movie_id_map_dict.pkl\"\n",
    "movie_id_map_dict = utils.open_object(movie_id_map_dict_path)\n",
    "\n",
    "age_group_id_map_dict_path = \"./artifacts/age_group_id_map_dict.pkl\"\n",
    "age_group_id_map_dict = utils.open_object(age_group_id_map_dict_path)\n",
    "\n",
    "genres_map_dict_path = \"./artifacts/genres_map_dict.pkl\"\n",
    "genres_map_dict = utils.open_object(\"./artifacts/genres_map_dict.pkl\")\n",
    "\n",
    "min_max_scaler_path = \"./artifacts/rating_min_max_scaler.pkl\"\n",
    "min_max_scaler = utils.open_object(\"./artifacts/rating_min_max_scaler.pkl\")"
   ]
  },
  {
   "cell_type": "code",
   "execution_count": 12,
   "metadata": {},
   "outputs": [],
   "source": [
    "num_movie = len(movie_id_map_dict)\n",
    "num_age_group = len(age_group_id_map_dict)\n",
    "num_genre = len(genres_map_dict)"
   ]
  },
  {
   "cell_type": "code",
   "execution_count": 13,
   "metadata": {},
   "outputs": [],
   "source": [
    "embed_configs = {}\n",
    "EMED_DIM = 32\n",
    "embed_configs[\"movie\"] = {\"embed_dim\": EMED_DIM, \"num_embed\": num_movie}\n",
    "embed_configs[\"genre\"] = {\"embed_dim\": EMED_DIM, \"num_embed\": num_genre}\n",
    "embed_configs[\"age_group\"] = {\n",
    "    \"embed_dim\": EMED_DIM, \"num_embed\": num_age_group}\n",
    "embed_configs[\"position\"] = {\n",
    "    \"embed_dim\": EMED_DIM, \"num_embed\": sequence_length}"
   ]
  },
  {
   "cell_type": "code",
   "execution_count": 14,
   "metadata": {},
   "outputs": [],
   "source": [
    "config_dict = {}\n",
    "config_dict[\"embed_configs\"] = embed_configs\n",
    "config_dict[\"transformer_num_layer\"] = 3\n",
    "config_dict[\"dropout\"] = 0.2\n",
    "config_dict[\"epoches\"] = 1\n",
    "config_dict[\"learning_rate\"] = 0.001\n",
    "config_dict[\"batch_size\"] = 128\n",
    "config_dict[\"sequence_length\"] = sequence_length"
   ]
  },
  {
   "cell_type": "code",
   "execution_count": 15,
   "metadata": {},
   "outputs": [],
   "source": [
    "config_dict[\"device\"] = \"cuda\" if torch.cuda.is_available() else \"cpu\""
   ]
  },
  {
   "cell_type": "code",
   "execution_count": 16,
   "metadata": {},
   "outputs": [],
   "source": [
    "utils.save_json(config_dict, \"./artifacts/config.json\")"
   ]
  },
  {
   "cell_type": "code",
   "execution_count": 17,
   "metadata": {},
   "outputs": [],
   "source": [
    "config = utils.Config(dict=config_dict)"
   ]
  },
  {
   "cell_type": "markdown",
   "metadata": {},
   "source": [
    "## (5) Load Datasets\n"
   ]
  },
  {
   "cell_type": "code",
   "execution_count": 18,
   "metadata": {},
   "outputs": [],
   "source": [
    "train_data[\"genres_ids_sequence\"] = train_data[\"genres_ids_sequence\"].apply(\n",
    "    lambda x: [array.tolist() for array in x]\n",
    ")\n",
    "test_data[\"genres_ids_sequence\"] = test_data[\"genres_ids_sequence\"].apply(\n",
    "    lambda x: [array.tolist() for array in x]\n",
    ")"
   ]
  },
  {
   "cell_type": "code",
   "execution_count": 19,
   "metadata": {},
   "outputs": [],
   "source": [
    "train_dataset = RatingDataset(data=train_data)\n",
    "test_dataset = RatingDataset(data=test_data)"
   ]
  },
  {
   "cell_type": "code",
   "execution_count": 20,
   "metadata": {},
   "outputs": [],
   "source": [
    "train_loader = DataLoader(\n",
    "    train_dataset, batch_size=config.batch_size, shuffle=True)\n",
    "test_loader = DataLoader(\n",
    "    test_dataset, batch_size=config.batch_size, shuffle=True)"
   ]
  },
  {
   "cell_type": "code",
   "execution_count": 21,
   "metadata": {},
   "outputs": [],
   "source": [
    "for inputs in train_loader:\n",
    "    break"
   ]
  },
  {
   "cell_type": "code",
   "execution_count": 22,
   "metadata": {},
   "outputs": [],
   "source": [
    "from src.model import BSTRecommenderModel"
   ]
  },
  {
   "cell_type": "code",
   "execution_count": 23,
   "metadata": {},
   "outputs": [
    {
     "data": {
      "text/plain": [
       "BSTRecommenderModel(\n",
       "  (embedding_layers): ModuleDict(\n",
       "    (movie): Embedding(3884, 32)\n",
       "    (genre): Embedding(19, 32)\n",
       "    (age_group): Embedding(8, 32)\n",
       "    (position): Embedding(6, 32)\n",
       "  )\n",
       "  (transformer_layer): TransformerLayer(\n",
       "    (transformer_blocks): ModuleList(\n",
       "      (0-2): 3 x TransformerBlock(\n",
       "        (multihead_attention): MultiheadAttention(\n",
       "          (out_proj): NonDynamicallyQuantizableLinear(in_features=96, out_features=96, bias=True)\n",
       "        )\n",
       "        (layer_norm1): LayerNorm((96,), eps=1e-05, elementwise_affine=True)\n",
       "        (feed_forward): Sequential(\n",
       "          (0): Linear(in_features=96, out_features=384, bias=True)\n",
       "          (1): ReLU()\n",
       "          (2): Linear(in_features=384, out_features=96, bias=True)\n",
       "          (3): Dropout(p=0.2, inplace=False)\n",
       "        )\n",
       "        (layer_norm2): LayerNorm((96,), eps=1e-05, elementwise_affine=True)\n",
       "        (dropout): Dropout(p=0.2, inplace=False)\n",
       "      )\n",
       "    )\n",
       "  )\n",
       "  (mlp): MLP(\n",
       "    (dropout): Dropout(p=0.2, inplace=False)\n",
       "    (layers): ModuleList(\n",
       "      (0): Linear(in_features=673, out_features=256, bias=True)\n",
       "      (1): LeakyReLU(negative_slope=0.01)\n",
       "      (2): Dropout(p=0.2, inplace=False)\n",
       "      (3): Linear(in_features=256, out_features=64, bias=True)\n",
       "      (4): LeakyReLU(negative_slope=0.01)\n",
       "      (5): Dropout(p=0.2, inplace=False)\n",
       "    )\n",
       "    (fc): Linear(in_features=64, out_features=1, bias=True)\n",
       "    (sigmoid): Sigmoid()\n",
       "  )\n",
       ")"
      ]
     },
     "execution_count": 23,
     "metadata": {},
     "output_type": "execute_result"
    }
   ],
   "source": [
    "model = BSTRecommenderModel(config)\n",
    "model = model.to(config.device)\n",
    "model.train()"
   ]
  },
  {
   "cell_type": "markdown",
   "metadata": {},
   "source": [
    "## (6) Training\n"
   ]
  },
  {
   "cell_type": "code",
   "execution_count": 24,
   "metadata": {},
   "outputs": [],
   "source": [
    "loss_func = nn.L1Loss()"
   ]
  },
  {
   "cell_type": "code",
   "execution_count": 25,
   "metadata": {},
   "outputs": [],
   "source": [
    "def evaluate(model, dataset_loader, min_max_scaler, loss_func=nn.L1Loss()):\n",
    "    model.eval()\n",
    "\n",
    "    prob_list = []\n",
    "    rating_list = []\n",
    "    eval_loss_list = []\n",
    "\n",
    "    # loss_func = nn.MSELoss()\n",
    "\n",
    "    pbar = tqdm(total=len(dataset_loader), desc=\"\", position=0, leave=True)\n",
    "\n",
    "    for inputs in dataset_loader:\n",
    "        with torch.no_grad():\n",
    "            probs = model(inputs)\n",
    "            ratings = inputs[\"target_rating\"].view(-1, 1)\n",
    "\n",
    "            loss = loss_func(probs, ratings)\n",
    "            eval_loss_list.append(loss.item())\n",
    "\n",
    "            probs = probs.cpu().numpy().flatten().tolist()\n",
    "            prob_list.extend(probs)\n",
    "\n",
    "            ratings = ratings.cpu().numpy().flatten().tolist()\n",
    "            rating_list.extend(ratings)\n",
    "\n",
    "            pbar.update(1)\n",
    "\n",
    "    pbar.close()\n",
    "\n",
    "    real_ratings = min_max_scaler.inverse_transform(\n",
    "        np.array(rating_list).reshape(-1, 1)\n",
    "    )[:, 0]\n",
    "    prediction_ratings = min_max_scaler.inverse_transform(\n",
    "        np.array(prob_list).reshape(-1, 1)\n",
    "    )[:, 0]\n",
    "\n",
    "    MAE = metrics.mean_absolute_error(real_ratings, prediction_ratings)\n",
    "    MSE = metrics.mean_squared_error(real_ratings, prediction_ratings)\n",
    "\n",
    "    eval_metrics = {}\n",
    "    eval_metrics[\"eval_loss\"] = sum(eval_loss_list) / len(eval_loss_list)\n",
    "    eval_metrics[\"eval_MAE\"] = MAE\n",
    "    eval_metrics[\"eval_MSE\"] = MSE\n",
    "\n",
    "    return eval_metrics"
   ]
  },
  {
   "cell_type": "code",
   "execution_count": 26,
   "metadata": {},
   "outputs": [
    {
     "name": "stderr",
     "output_type": "stream",
     "text": [
      "  0%|          | 0/5747 [00:00<?, ?it/s]"
     ]
    },
    {
     "name": "stderr",
     "output_type": "stream",
     "text": [
      "100%|██████████| 5747/5747 [01:24<00:00, 68.24it/s]\n"
     ]
    },
    {
     "name": "stdout",
     "output_type": "stream",
     "text": [
      "{'eval_loss': 0.27256317931931184, 'eval_MAE': 1.0902494875393067, 'eval_MSE': 1.7157038274189336}\n"
     ]
    }
   ],
   "source": [
    "# loss before training\n",
    "before_training_metrics = evaluate(\n",
    "    model, test_loader, min_max_scaler, loss_func)\n",
    "print(before_training_metrics)"
   ]
  },
  {
   "cell_type": "code",
   "execution_count": 27,
   "metadata": {},
   "outputs": [],
   "source": [
    "learning_rate = config_dict[\"learning_rate\"]\n",
    "batch_size = config_dict[\"batch_size\"]"
   ]
  },
  {
   "cell_type": "code",
   "execution_count": 28,
   "metadata": {},
   "outputs": [],
   "source": [
    "optimizer = torch.optim.AdamW(model.parameters(), lr=config.learning_rate)\n",
    "total_batch = 0\n",
    "best_eval_loss = float(\"inf\")\n",
    "best_checkpoint = 0\n",
    "model_version = str(uuid4())\n",
    "config.eval_steps = len(train_loader) // 3"
   ]
  },
  {
   "cell_type": "code",
   "execution_count": 29,
   "metadata": {},
   "outputs": [],
   "source": [
    "base_step = 64"
   ]
  },
  {
   "cell_type": "code",
   "execution_count": 30,
   "metadata": {},
   "outputs": [
    {
     "name": "stderr",
     "output_type": "stream",
     "text": [
      "100%|██████████| 5747/5747 [01:47<00:00, 53.51it/s], 17.55it/s]  \n",
      "100%|██████████| 5747/5747 [02:01<00:00, 47.26it/s], 18.81it/s, eval_loss=0.19, eval_MAE=0.76, eval_MSE=1.06, best_eval_loss=0.19, train_loss=0.196, train_MAE=0.782, train_MSE=1.08, steps=21744, best_checkpoint=21744]    \n",
      "/opt/homebrew/Caskroom/miniforge/base/envs/torch/lib/python3.11/site-packages/_distutils_hack/__init__.py:18: UserWarning: Distutils was imported before Setuptools, but importing Setuptools also replaces the `distutils` module in `sys.modules`. This may lead to undesirable behaviors or errors. To avoid these issues, avoid using distutils directly, ensure that setuptools is installed in the traditional way (e.g. not an editable install), and/or make sure that setuptools is always imported before distutils.\n",
      "  warnings.warn(\n",
      "/opt/homebrew/Caskroom/miniforge/base/envs/torch/lib/python3.11/site-packages/_distutils_hack/__init__.py:33: UserWarning: Setuptools is replacing distutils.\n",
      "  warnings.warn(\"Setuptools is replacing distutils.\")\n",
      "100%|██████████| 5747/5747 [01:58<00:00, 48.56it/s], 18.98it/s, eval_loss=0.186, eval_MAE=0.745, eval_MSE=1.02, best_eval_loss=0.186, train_loss=0.192, train_MAE=0.768, train_MSE=1.06, steps=43488, best_checkpoint=43488]   \n",
      "/opt/homebrew/Caskroom/miniforge/base/envs/torch/lib/python3.11/site-packages/_distutils_hack/__init__.py:18: UserWarning: Distutils was imported before Setuptools, but importing Setuptools also replaces the `distutils` module in `sys.modules`. This may lead to undesirable behaviors or errors. To avoid these issues, avoid using distutils directly, ensure that setuptools is installed in the traditional way (e.g. not an editable install), and/or make sure that setuptools is always imported before distutils.\n",
      "  warnings.warn(\n",
      "/opt/homebrew/Caskroom/miniforge/base/envs/torch/lib/python3.11/site-packages/_distutils_hack/__init__.py:33: UserWarning: Setuptools is replacing distutils.\n",
      "  warnings.warn(\"Setuptools is replacing distutils.\")\n",
      "Training: 100%|██████████| 32617/32617 [34:37<00:00, 15.70it/s, eval_loss=0.185, eval_MAE=0.738, eval_MSE=1.02, best_eval_loss=0.185, train_loss=0.19, train_MAE=0.761, train_MSE=1.05, steps=65232, best_checkpoint=65232] \n"
     ]
    }
   ],
   "source": [
    "# Train\n",
    "mlflow.set_tracking_uri(TRACKING_URL)\n",
    "mlflow.set_experiment(EXPERIMENT_NAME)\n",
    "\n",
    "total_pbar = tqdm(\n",
    "    total=len(train_loader) * config.epoches, desc=\"Training\", position=0, leave=True\n",
    ")\n",
    "\n",
    "metrics_list = []\n",
    "best_model_path = None\n",
    "\n",
    "\n",
    "with mlflow.start_run():\n",
    "    # model_name = 'bst-model'\n",
    "    # mlflow.set_tag(\"algorithm\",model_name)\n",
    "\n",
    "    mlflow.log_params(config_dict)\n",
    "    mlflow.log_artifact(\"./src\", artifact_path=\"\")\n",
    "    mlflow.log_artifact(\"./artifacts\", artifact_path=\"\")\n",
    "\n",
    "    for epoch in range(config.epoches):\n",
    "        train_loss_list = []\n",
    "        prob_list = []\n",
    "        rating_list = []\n",
    "\n",
    "        for inputs in train_loader:\n",
    "            model = model.train()\n",
    "            optimizer.zero_grad()\n",
    "            probs = model(inputs)\n",
    "\n",
    "            rating = inputs[\"target_rating\"].view(-1, 1)\n",
    "\n",
    "            loss = loss_func(probs, rating)\n",
    "            loss.backward()\n",
    "            optimizer.step()\n",
    "            train_loss_list.append(loss.item())\n",
    "\n",
    "            probs = probs.detach().cpu().numpy().flatten().tolist()\n",
    "            prob_list.extend(probs)\n",
    "            rating = rating.detach().cpu().flatten().tolist()\n",
    "            rating_list.extend(rating)\n",
    "\n",
    "            if (total_batch + 1) % config.eval_steps == 0:\n",
    "                current_steps = ((total_batch + 1) * batch_size) // base_step\n",
    "                improve = False\n",
    "                model_metrics = evaluate(\n",
    "                    model, test_loader, min_max_scaler, loss_func)\n",
    "                eval_loss = model_metrics[\"eval_loss\"]\n",
    "\n",
    "                if eval_loss <= best_eval_loss:\n",
    "                    improve = True\n",
    "                    best_checkpoint = current_steps\n",
    "                    best_eval_loss = eval_loss\n",
    "\n",
    "                train_loss = np.mean(train_loss_list)\n",
    "\n",
    "                real_ratings = min_max_scaler.inverse_transform(\n",
    "                    np.array(rating_list).reshape(-1, 1)\n",
    "                )[:, 0]\n",
    "                prediction_ratings = min_max_scaler.inverse_transform(\n",
    "                    np.array(prob_list).reshape(-1, 1)\n",
    "                )[:, 0]\n",
    "                MAE = metrics.mean_absolute_error(\n",
    "                    real_ratings, prediction_ratings)\n",
    "                MSE = metrics.mean_squared_error(\n",
    "                    real_ratings, prediction_ratings)\n",
    "\n",
    "                model_metrics[\"best_eval_loss\"] = best_eval_loss\n",
    "                model_metrics[\"train_loss\"] = train_loss\n",
    "                model_metrics[\"train_MAE\"] = MAE\n",
    "                model_metrics[\"train_MSE\"] = MSE\n",
    "\n",
    "                model_metrics[\"steps\"] = current_steps\n",
    "                model_metrics[\"best_checkpoint\"] = best_checkpoint\n",
    "                metrics_list.append(model_metrics)\n",
    "\n",
    "                for metrics_name, metrics_value in model_metrics.items():\n",
    "                    mlflow.log_metric(metrics_name, metrics_value)\n",
    "\n",
    "                if improve:\n",
    "                    save_dir = os.path.join(\"models\", model_version)\n",
    "                    os.makedirs(save_dir, exist_ok=True)\n",
    "                    model_path = utils.save_model(\n",
    "                        model, save_dir, current_steps, model_metrics\n",
    "                    )\n",
    "                    best_model_path = model_path\n",
    "                    mlflow.log_artifact(model_path, artifact_path=\"model\")\n",
    "                    mlflow.pytorch.log_model(model, \"model\")\n",
    "\n",
    "                post_fix_message = {k: round(v, 3)\n",
    "                                    for k, v in model_metrics.items()}\n",
    "                total_pbar.set_postfix(post_fix_message)\n",
    "\n",
    "                model = model.train()\n",
    "\n",
    "            total_batch += 1\n",
    "            total_pbar.update(1)\n",
    "\n",
    "        model = model.train()\n",
    "\n",
    "    total_pbar.close()"
   ]
  },
  {
   "cell_type": "markdown",
   "metadata": {},
   "source": []
  },
  {
   "cell_type": "code",
   "execution_count": 31,
   "metadata": {},
   "outputs": [
    {
     "data": {
      "text/html": [
       "<div>\n",
       "<style scoped>\n",
       "    .dataframe tbody tr th:only-of-type {\n",
       "        vertical-align: middle;\n",
       "    }\n",
       "\n",
       "    .dataframe tbody tr th {\n",
       "        vertical-align: top;\n",
       "    }\n",
       "\n",
       "    .dataframe thead th {\n",
       "        text-align: right;\n",
       "    }\n",
       "</style>\n",
       "<table border=\"1\" class=\"dataframe\">\n",
       "  <thead>\n",
       "    <tr style=\"text-align: right;\">\n",
       "      <th></th>\n",
       "      <th>eval_loss</th>\n",
       "      <th>eval_MAE</th>\n",
       "      <th>eval_MSE</th>\n",
       "      <th>best_eval_loss</th>\n",
       "      <th>train_loss</th>\n",
       "      <th>train_MAE</th>\n",
       "      <th>train_MSE</th>\n",
       "      <th>best_checkpoint</th>\n",
       "    </tr>\n",
       "    <tr>\n",
       "      <th>steps</th>\n",
       "      <th></th>\n",
       "      <th></th>\n",
       "      <th></th>\n",
       "      <th></th>\n",
       "      <th></th>\n",
       "      <th></th>\n",
       "      <th></th>\n",
       "      <th></th>\n",
       "    </tr>\n",
       "  </thead>\n",
       "  <tbody>\n",
       "    <tr>\n",
       "      <th>21744</th>\n",
       "      <td>0.190108</td>\n",
       "      <td>0.760445</td>\n",
       "      <td>1.056168</td>\n",
       "      <td>0.190108</td>\n",
       "      <td>0.195603</td>\n",
       "      <td>0.782411</td>\n",
       "      <td>1.080604</td>\n",
       "      <td>21744</td>\n",
       "    </tr>\n",
       "    <tr>\n",
       "      <th>43488</th>\n",
       "      <td>0.186304</td>\n",
       "      <td>0.745226</td>\n",
       "      <td>1.020425</td>\n",
       "      <td>0.186304</td>\n",
       "      <td>0.192039</td>\n",
       "      <td>0.768157</td>\n",
       "      <td>1.058916</td>\n",
       "      <td>43488</td>\n",
       "    </tr>\n",
       "    <tr>\n",
       "      <th>65232</th>\n",
       "      <td>0.184567</td>\n",
       "      <td>0.738334</td>\n",
       "      <td>1.017258</td>\n",
       "      <td>0.184567</td>\n",
       "      <td>0.190180</td>\n",
       "      <td>0.760722</td>\n",
       "      <td>1.046893</td>\n",
       "      <td>65232</td>\n",
       "    </tr>\n",
       "  </tbody>\n",
       "</table>\n",
       "</div>"
      ],
      "text/plain": [
       "       eval_loss  eval_MAE  eval_MSE  best_eval_loss  train_loss  train_MAE  \\\n",
       "steps                                                                         \n",
       "21744   0.190108  0.760445  1.056168        0.190108    0.195603   0.782411   \n",
       "43488   0.186304  0.745226  1.020425        0.186304    0.192039   0.768157   \n",
       "65232   0.184567  0.738334  1.017258        0.184567    0.190180   0.760722   \n",
       "\n",
       "       train_MSE  best_checkpoint  \n",
       "steps                              \n",
       "21744   1.080604            21744  \n",
       "43488   1.058916            43488  \n",
       "65232   1.046893            65232  "
      ]
     },
     "execution_count": 31,
     "metadata": {},
     "output_type": "execute_result"
    }
   ],
   "source": [
    "df_metrics = pd.DataFrame(metrics_list)\n",
    "df_metrics = df_metrics.set_index(\"steps\")\n",
    "df_metrics"
   ]
  },
  {
   "cell_type": "code",
   "execution_count": 32,
   "metadata": {},
   "outputs": [
    {
     "data": {
      "text/plain": [
       "<Axes: xlabel='steps'>"
      ]
     },
     "execution_count": 32,
     "metadata": {},
     "output_type": "execute_result"
    },
    {
     "data": {
      "image/png": "[encoded data removed]",
      "text/plain": [
       "<Figure size 640x480 with 1 Axes>"
      ]
     },
     "metadata": {},
     "output_type": "display_data"
    }
   ],
   "source": [
    "df_metrics[[\"eval_loss\", \"train_loss\"]].plot()"
   ]
  },
  {
   "cell_type": "code",
   "execution_count": 33,
   "metadata": {},
   "outputs": [
    {
     "data": {
      "text/plain": [
       "<Axes: xlabel='steps'>"
      ]
     },
     "execution_count": 33,
     "metadata": {},
     "output_type": "execute_result"
    },
    {
     "data": {
      "image/png": "[encoded data removed]",
      "text/plain": [
       "<Figure size 640x480 with 1 Axes>"
      ]
     },
     "metadata": {},
     "output_type": "display_data"
    }
   ],
   "source": [
    "df_metrics[[\"eval_MAE\", \"train_MAE\"]].plot()"
   ]
  },
  {
   "cell_type": "markdown",
   "metadata": {},
   "source": [
    "## (7) Validate The Best Model\n"
   ]
  },
  {
   "cell_type": "code",
   "execution_count": 34,
   "metadata": {},
   "outputs": [],
   "source": [
    "best_model = BSTRecommenderModel(config=config)"
   ]
  },
  {
   "cell_type": "code",
   "execution_count": 35,
   "metadata": {},
   "outputs": [
    {
     "data": {
      "text/plain": [
       "BSTRecommenderModel(\n",
       "  (embedding_layers): ModuleDict(\n",
       "    (movie): Embedding(3884, 32)\n",
       "    (genre): Embedding(19, 32)\n",
       "    (age_group): Embedding(8, 32)\n",
       "    (position): Embedding(6, 32)\n",
       "  )\n",
       "  (transformer_layer): TransformerLayer(\n",
       "    (transformer_blocks): ModuleList(\n",
       "      (0-2): 3 x TransformerBlock(\n",
       "        (multihead_attention): MultiheadAttention(\n",
       "          (out_proj): NonDynamicallyQuantizableLinear(in_features=96, out_features=96, bias=True)\n",
       "        )\n",
       "        (layer_norm1): LayerNorm((96,), eps=1e-05, elementwise_affine=True)\n",
       "        (feed_forward): Sequential(\n",
       "          (0): Linear(in_features=96, out_features=384, bias=True)\n",
       "          (1): ReLU()\n",
       "          (2): Linear(in_features=384, out_features=96, bias=True)\n",
       "          (3): Dropout(p=0.2, inplace=False)\n",
       "        )\n",
       "        (layer_norm2): LayerNorm((96,), eps=1e-05, elementwise_affine=True)\n",
       "        (dropout): Dropout(p=0.2, inplace=False)\n",
       "      )\n",
       "    )\n",
       "  )\n",
       "  (mlp): MLP(\n",
       "    (dropout): Dropout(p=0.2, inplace=False)\n",
       "    (layers): ModuleList(\n",
       "      (0): Linear(in_features=673, out_features=256, bias=True)\n",
       "      (1): LeakyReLU(negative_slope=0.01)\n",
       "      (2): Dropout(p=0.2, inplace=False)\n",
       "      (3): Linear(in_features=256, out_features=64, bias=True)\n",
       "      (4): LeakyReLU(negative_slope=0.01)\n",
       "      (5): Dropout(p=0.2, inplace=False)\n",
       "    )\n",
       "    (fc): Linear(in_features=64, out_features=1, bias=True)\n",
       "    (sigmoid): Sigmoid()\n",
       "  )\n",
       ")"
      ]
     },
     "execution_count": 35,
     "metadata": {},
     "output_type": "execute_result"
    }
   ],
   "source": [
    "best_model.load_state_dict(torch.load(best_model_path))\n",
    "best_model.eval()\n",
    "best_model.to(config.device)"
   ]
  },
  {
   "cell_type": "code",
   "execution_count": 36,
   "metadata": {},
   "outputs": [
    {
     "name": "stderr",
     "output_type": "stream",
     "text": [
      "100%|█████████▉| 5744/5747 [01:54<00:00, 54.09it/s]"
     ]
    }
   ],
   "source": [
    "best_model.eval()\n",
    "prob_list = []\n",
    "rating_list = []\n",
    "eval_loss_list = []\n",
    "pbar = tqdm(total=len(test_loader), desc=\"\", position=0, leave=True)\n",
    "for inputs in test_loader:\n",
    "    with torch.no_grad():\n",
    "        probs = best_model(inputs)\n",
    "        ratings = inputs[\"target_rating\"].view(-1, 1)\n",
    "\n",
    "        loss = loss_func(probs, ratings)\n",
    "        eval_loss_list.append(loss.item())\n",
    "\n",
    "        probs = probs.cpu().numpy().flatten().tolist()\n",
    "        prob_list.extend(probs)\n",
    "\n",
    "        ratings = ratings.cpu().numpy().flatten().tolist()\n",
    "        rating_list.extend(ratings)\n",
    "\n",
    "        pbar.update(1)"
   ]
  },
  {
   "cell_type": "code",
   "execution_count": 37,
   "metadata": {},
   "outputs": [],
   "source": [
    "prediction = pd.DataFrame()\n",
    "prediction[\"real\"] = min_max_scaler.inverse_transform(\n",
    "    np.array(rating_list).reshape(-1, 1)\n",
    ")[:, 0]\n",
    "prediction[\"prediction\"] = min_max_scaler.inverse_transform(\n",
    "    np.array(prob_list).reshape(-1, 1)\n",
    ")[:, 0]"
   ]
  },
  {
   "cell_type": "code",
   "execution_count": 38,
   "metadata": {},
   "outputs": [],
   "source": [
    "MAE = metrics.mean_absolute_error(prediction[\"real\"], prediction[\"prediction\"])\n",
    "RMSE = metrics.mean_squared_error(prediction[\"real\"], prediction[\"prediction\"])"
   ]
  },
  {
   "cell_type": "code",
   "execution_count": 39,
   "metadata": {},
   "outputs": [
    {
     "name": "stdout",
     "output_type": "stream",
     "text": [
      "MAE:0.7383335893923039,RMSE:1.017257942215218\n"
     ]
    }
   ],
   "source": [
    "print(f\"MAE:{MAE},RMSE:{RMSE}\")"
   ]
  },
  {
   "cell_type": "code",
   "execution_count": 40,
   "metadata": {},
   "outputs": [
    {
     "data": {
      "text/html": [
       "<div>\n",
       "<style scoped>\n",
       "    .dataframe tbody tr th:only-of-type {\n",
       "        vertical-align: middle;\n",
       "    }\n",
       "\n",
       "    .dataframe tbody tr th {\n",
       "        vertical-align: top;\n",
       "    }\n",
       "\n",
       "    .dataframe thead th {\n",
       "        text-align: right;\n",
       "    }\n",
       "</style>\n",
       "<table border=\"1\" class=\"dataframe\">\n",
       "  <thead>\n",
       "    <tr style=\"text-align: right;\">\n",
       "      <th></th>\n",
       "      <th>real</th>\n",
       "      <th>prediction</th>\n",
       "    </tr>\n",
       "  </thead>\n",
       "  <tbody>\n",
       "    <tr>\n",
       "      <th>735441</th>\n",
       "      <td>2.0</td>\n",
       "      <td>3.001047</td>\n",
       "    </tr>\n",
       "    <tr>\n",
       "      <th>735442</th>\n",
       "      <td>1.0</td>\n",
       "      <td>1.005298</td>\n",
       "    </tr>\n",
       "    <tr>\n",
       "      <th>735443</th>\n",
       "      <td>5.0</td>\n",
       "      <td>3.999617</td>\n",
       "    </tr>\n",
       "    <tr>\n",
       "      <th>735444</th>\n",
       "      <td>3.0</td>\n",
       "      <td>3.000321</td>\n",
       "    </tr>\n",
       "    <tr>\n",
       "      <th>735445</th>\n",
       "      <td>2.0</td>\n",
       "      <td>2.998109</td>\n",
       "    </tr>\n",
       "    <tr>\n",
       "      <th>735446</th>\n",
       "      <td>4.0</td>\n",
       "      <td>3.977261</td>\n",
       "    </tr>\n",
       "    <tr>\n",
       "      <th>735447</th>\n",
       "      <td>3.0</td>\n",
       "      <td>3.005550</td>\n",
       "    </tr>\n",
       "    <tr>\n",
       "      <th>735448</th>\n",
       "      <td>5.0</td>\n",
       "      <td>3.984160</td>\n",
       "    </tr>\n",
       "    <tr>\n",
       "      <th>735449</th>\n",
       "      <td>4.0</td>\n",
       "      <td>3.003877</td>\n",
       "    </tr>\n",
       "    <tr>\n",
       "      <th>735450</th>\n",
       "      <td>3.0</td>\n",
       "      <td>3.005347</td>\n",
       "    </tr>\n",
       "    <tr>\n",
       "      <th>735451</th>\n",
       "      <td>5.0</td>\n",
       "      <td>3.965936</td>\n",
       "    </tr>\n",
       "    <tr>\n",
       "      <th>735452</th>\n",
       "      <td>5.0</td>\n",
       "      <td>3.984901</td>\n",
       "    </tr>\n",
       "    <tr>\n",
       "      <th>735453</th>\n",
       "      <td>4.0</td>\n",
       "      <td>2.997288</td>\n",
       "    </tr>\n",
       "    <tr>\n",
       "      <th>735454</th>\n",
       "      <td>5.0</td>\n",
       "      <td>3.029774</td>\n",
       "    </tr>\n",
       "    <tr>\n",
       "      <th>735455</th>\n",
       "      <td>5.0</td>\n",
       "      <td>3.979375</td>\n",
       "    </tr>\n",
       "    <tr>\n",
       "      <th>735456</th>\n",
       "      <td>5.0</td>\n",
       "      <td>3.990284</td>\n",
       "    </tr>\n",
       "    <tr>\n",
       "      <th>735457</th>\n",
       "      <td>4.0</td>\n",
       "      <td>3.000347</td>\n",
       "    </tr>\n",
       "    <tr>\n",
       "      <th>735458</th>\n",
       "      <td>4.0</td>\n",
       "      <td>3.003136</td>\n",
       "    </tr>\n",
       "    <tr>\n",
       "      <th>735459</th>\n",
       "      <td>3.0</td>\n",
       "      <td>3.971334</td>\n",
       "    </tr>\n",
       "    <tr>\n",
       "      <th>735460</th>\n",
       "      <td>4.0</td>\n",
       "      <td>4.003622</td>\n",
       "    </tr>\n",
       "    <tr>\n",
       "      <th>735461</th>\n",
       "      <td>5.0</td>\n",
       "      <td>4.069463</td>\n",
       "    </tr>\n",
       "    <tr>\n",
       "      <th>735462</th>\n",
       "      <td>5.0</td>\n",
       "      <td>4.999981</td>\n",
       "    </tr>\n",
       "    <tr>\n",
       "      <th>735463</th>\n",
       "      <td>3.0</td>\n",
       "      <td>3.736957</td>\n",
       "    </tr>\n",
       "    <tr>\n",
       "      <th>735464</th>\n",
       "      <td>2.0</td>\n",
       "      <td>3.941337</td>\n",
       "    </tr>\n",
       "    <tr>\n",
       "      <th>735465</th>\n",
       "      <td>3.0</td>\n",
       "      <td>4.131048</td>\n",
       "    </tr>\n",
       "    <tr>\n",
       "      <th>735466</th>\n",
       "      <td>1.0</td>\n",
       "      <td>3.007241</td>\n",
       "    </tr>\n",
       "    <tr>\n",
       "      <th>735467</th>\n",
       "      <td>5.0</td>\n",
       "      <td>4.758426</td>\n",
       "    </tr>\n",
       "    <tr>\n",
       "      <th>735468</th>\n",
       "      <td>4.0</td>\n",
       "      <td>4.021972</td>\n",
       "    </tr>\n",
       "    <tr>\n",
       "      <th>735469</th>\n",
       "      <td>5.0</td>\n",
       "      <td>4.002340</td>\n",
       "    </tr>\n",
       "    <tr>\n",
       "      <th>735470</th>\n",
       "      <td>4.0</td>\n",
       "      <td>3.994525</td>\n",
       "    </tr>\n",
       "    <tr>\n",
       "      <th>735471</th>\n",
       "      <td>2.0</td>\n",
       "      <td>3.952682</td>\n",
       "    </tr>\n",
       "    <tr>\n",
       "      <th>735472</th>\n",
       "      <td>4.0</td>\n",
       "      <td>3.004608</td>\n",
       "    </tr>\n",
       "    <tr>\n",
       "      <th>735473</th>\n",
       "      <td>2.0</td>\n",
       "      <td>3.974712</td>\n",
       "    </tr>\n",
       "    <tr>\n",
       "      <th>735474</th>\n",
       "      <td>4.0</td>\n",
       "      <td>3.788533</td>\n",
       "    </tr>\n",
       "    <tr>\n",
       "      <th>735475</th>\n",
       "      <td>4.0</td>\n",
       "      <td>3.973317</td>\n",
       "    </tr>\n",
       "    <tr>\n",
       "      <th>735476</th>\n",
       "      <td>2.0</td>\n",
       "      <td>2.995674</td>\n",
       "    </tr>\n",
       "    <tr>\n",
       "      <th>735477</th>\n",
       "      <td>3.0</td>\n",
       "      <td>2.993486</td>\n",
       "    </tr>\n",
       "    <tr>\n",
       "      <th>735478</th>\n",
       "      <td>3.0</td>\n",
       "      <td>2.999913</td>\n",
       "    </tr>\n",
       "    <tr>\n",
       "      <th>735479</th>\n",
       "      <td>5.0</td>\n",
       "      <td>4.999967</td>\n",
       "    </tr>\n",
       "    <tr>\n",
       "      <th>735480</th>\n",
       "      <td>4.0</td>\n",
       "      <td>4.522837</td>\n",
       "    </tr>\n",
       "    <tr>\n",
       "      <th>735481</th>\n",
       "      <td>3.0</td>\n",
       "      <td>3.936299</td>\n",
       "    </tr>\n",
       "    <tr>\n",
       "      <th>735482</th>\n",
       "      <td>3.0</td>\n",
       "      <td>3.992594</td>\n",
       "    </tr>\n",
       "    <tr>\n",
       "      <th>735483</th>\n",
       "      <td>4.0</td>\n",
       "      <td>4.027948</td>\n",
       "    </tr>\n",
       "    <tr>\n",
       "      <th>735484</th>\n",
       "      <td>5.0</td>\n",
       "      <td>3.924413</td>\n",
       "    </tr>\n",
       "    <tr>\n",
       "      <th>735485</th>\n",
       "      <td>3.0</td>\n",
       "      <td>3.989007</td>\n",
       "    </tr>\n",
       "    <tr>\n",
       "      <th>735486</th>\n",
       "      <td>2.0</td>\n",
       "      <td>2.109766</td>\n",
       "    </tr>\n",
       "    <tr>\n",
       "      <th>735487</th>\n",
       "      <td>3.0</td>\n",
       "      <td>3.955929</td>\n",
       "    </tr>\n",
       "    <tr>\n",
       "      <th>735488</th>\n",
       "      <td>3.0</td>\n",
       "      <td>4.010092</td>\n",
       "    </tr>\n",
       "    <tr>\n",
       "      <th>735489</th>\n",
       "      <td>4.0</td>\n",
       "      <td>4.953748</td>\n",
       "    </tr>\n",
       "    <tr>\n",
       "      <th>735490</th>\n",
       "      <td>4.0</td>\n",
       "      <td>3.945174</td>\n",
       "    </tr>\n",
       "  </tbody>\n",
       "</table>\n",
       "</div>"
      ],
      "text/plain": [
       "        real  prediction\n",
       "735441   2.0    3.001047\n",
       "735442   1.0    1.005298\n",
       "735443   5.0    3.999617\n",
       "735444   3.0    3.000321\n",
       "735445   2.0    2.998109\n",
       "735446   4.0    3.977261\n",
       "735447   3.0    3.005550\n",
       "735448   5.0    3.984160\n",
       "735449   4.0    3.003877\n",
       "735450   3.0    3.005347\n",
       "735451   5.0    3.965936\n",
       "735452   5.0    3.984901\n",
       "735453   4.0    2.997288\n",
       "735454   5.0    3.029774\n",
       "735455   5.0    3.979375\n",
       "735456   5.0    3.990284\n",
       "735457   4.0    3.000347\n",
       "735458   4.0    3.003136\n",
       "735459   3.0    3.971334\n",
       "735460   4.0    4.003622\n",
       "735461   5.0    4.069463\n",
       "735462   5.0    4.999981\n",
       "735463   3.0    3.736957\n",
       "735464   2.0    3.941337\n",
       "735465   3.0    4.131048\n",
       "735466   1.0    3.007241\n",
       "735467   5.0    4.758426\n",
       "735468   4.0    4.021972\n",
       "735469   5.0    4.002340\n",
       "735470   4.0    3.994525\n",
       "735471   2.0    3.952682\n",
       "735472   4.0    3.004608\n",
       "735473   2.0    3.974712\n",
       "735474   4.0    3.788533\n",
       "735475   4.0    3.973317\n",
       "735476   2.0    2.995674\n",
       "735477   3.0    2.993486\n",
       "735478   3.0    2.999913\n",
       "735479   5.0    4.999967\n",
       "735480   4.0    4.522837\n",
       "735481   3.0    3.936299\n",
       "735482   3.0    3.992594\n",
       "735483   4.0    4.027948\n",
       "735484   5.0    3.924413\n",
       "735485   3.0    3.989007\n",
       "735486   2.0    2.109766\n",
       "735487   3.0    3.955929\n",
       "735488   3.0    4.010092\n",
       "735489   4.0    4.953748\n",
       "735490   4.0    3.945174"
      ]
     },
     "execution_count": 40,
     "metadata": {},
     "output_type": "execute_result"
    },
    {
     "name": "stderr",
     "output_type": "stream",
     "text": [
      "100%|██████████| 5747/5747 [02:06<00:00, 54.09it/s]"
     ]
    }
   ],
   "source": [
    "prediction.iloc[-50:]"
   ]
  }
 ],
 "metadata": {
  "kernelspec": {
   "display_name": "torch",
   "language": "python",
   "name": "python3"
  },
  "language_info": {
   "codemirror_mode": {
    "name": "ipython",
    "version": 3
   },
   "file_extension": ".py",
   "mimetype": "text/x-python",
   "name": "python",
   "nbconvert_exporter": "python",
   "pygments_lexer": "ipython3",
   "version": "3.11.3"
  },
  "orig_nbformat": 4
 },
 "nbformat": 4,
 "nbformat_minor": 2
}
